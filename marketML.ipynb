{
 "cells": [
  {
   "cell_type": "code",
   "execution_count": null,
   "metadata": {
    "colab": {
     "base_uri": "https://localhost:8080/"
    },
    "id": "TeqCQJx6rmjB",
    "outputId": "ae5e52a8-782b-4d2c-aa99-abcad43a98d9"
   },
   "outputs": [
    {
     "name": "stdout",
     "output_type": "stream",
     "text": [
      "Collecting html2text\n",
      "  Downloading https://files.pythonhosted.org/packages/ae/88/14655f727f66b3e3199f4467bafcc88283e6c31b562686bf606264e09181/html2text-2020.1.16-py3-none-any.whl\n",
      "Installing collected packages: html2text\n",
      "Successfully installed html2text-2020.1.16\n",
      "Collecting transformers==3.0.2\n",
      "\u001b[?25l  Downloading https://files.pythonhosted.org/packages/27/3c/91ed8f5c4e7ef3227b4119200fc0ed4b4fd965b1f0172021c25701087825/transformers-3.0.2-py3-none-any.whl (769kB)\n",
      "\u001b[K     |████████████████████████████████| 778kB 19.3MB/s \n",
      "\u001b[?25hRequirement already satisfied: requests in /usr/local/lib/python3.7/dist-packages (from transformers==3.0.2) (2.23.0)\n",
      "Requirement already satisfied: filelock in /usr/local/lib/python3.7/dist-packages (from transformers==3.0.2) (3.0.12)\n",
      "Collecting tokenizers==0.8.1.rc1\n",
      "\u001b[?25l  Downloading https://files.pythonhosted.org/packages/02/59/68c7e3833f535615fb97d33ffcb7b30bbf62bc7477a9c59cd19ad8535d72/tokenizers-0.8.1rc1-cp37-cp37m-manylinux1_x86_64.whl (3.0MB)\n",
      "\u001b[K     |████████████████████████████████| 3.0MB 49.9MB/s \n",
      "\u001b[?25hRequirement already satisfied: regex!=2019.12.17 in /usr/local/lib/python3.7/dist-packages (from transformers==3.0.2) (2019.12.20)\n",
      "Requirement already satisfied: packaging in /usr/local/lib/python3.7/dist-packages (from transformers==3.0.2) (20.9)\n",
      "Collecting sacremoses\n",
      "\u001b[?25l  Downloading https://files.pythonhosted.org/packages/7d/34/09d19aff26edcc8eb2a01bed8e98f13a1537005d31e95233fd48216eed10/sacremoses-0.0.43.tar.gz (883kB)\n",
      "\u001b[K     |████████████████████████████████| 890kB 50.2MB/s \n",
      "\u001b[?25hRequirement already satisfied: numpy in /usr/local/lib/python3.7/dist-packages (from transformers==3.0.2) (1.19.5)\n",
      "Requirement already satisfied: tqdm>=4.27 in /usr/local/lib/python3.7/dist-packages (from transformers==3.0.2) (4.41.1)\n",
      "Collecting sentencepiece!=0.1.92\n",
      "\u001b[?25l  Downloading https://files.pythonhosted.org/packages/f5/99/e0808cb947ba10f575839c43e8fafc9cc44e4a7a2c8f79c60db48220a577/sentencepiece-0.1.95-cp37-cp37m-manylinux2014_x86_64.whl (1.2MB)\n",
      "\u001b[K     |████████████████████████████████| 1.2MB 45.6MB/s \n",
      "\u001b[?25hRequirement already satisfied: certifi>=2017.4.17 in /usr/local/lib/python3.7/dist-packages (from requests->transformers==3.0.2) (2020.12.5)\n",
      "Requirement already satisfied: chardet<4,>=3.0.2 in /usr/local/lib/python3.7/dist-packages (from requests->transformers==3.0.2) (3.0.4)\n",
      "Requirement already satisfied: urllib3!=1.25.0,!=1.25.1,<1.26,>=1.21.1 in /usr/local/lib/python3.7/dist-packages (from requests->transformers==3.0.2) (1.24.3)\n",
      "Requirement already satisfied: idna<3,>=2.5 in /usr/local/lib/python3.7/dist-packages (from requests->transformers==3.0.2) (2.10)\n",
      "Requirement already satisfied: pyparsing>=2.0.2 in /usr/local/lib/python3.7/dist-packages (from packaging->transformers==3.0.2) (2.4.7)\n",
      "Requirement already satisfied: six in /usr/local/lib/python3.7/dist-packages (from sacremoses->transformers==3.0.2) (1.15.0)\n",
      "Requirement already satisfied: click in /usr/local/lib/python3.7/dist-packages (from sacremoses->transformers==3.0.2) (7.1.2)\n",
      "Requirement already satisfied: joblib in /usr/local/lib/python3.7/dist-packages (from sacremoses->transformers==3.0.2) (1.0.1)\n",
      "Building wheels for collected packages: sacremoses\n",
      "  Building wheel for sacremoses (setup.py) ... \u001b[?25l\u001b[?25hdone\n",
      "  Created wheel for sacremoses: filename=sacremoses-0.0.43-cp37-none-any.whl size=893262 sha256=b14c5115b427b734bf3f02c2bb7bc47ec773eb6378a33e30bf67532c24fd5121\n",
      "  Stored in directory: /root/.cache/pip/wheels/29/3c/fd/7ce5c3f0666dab31a50123635e6fb5e19ceb42ce38d4e58f45\n",
      "Successfully built sacremoses\n",
      "Installing collected packages: tokenizers, sacremoses, sentencepiece, transformers\n",
      "Successfully installed sacremoses-0.0.43 sentencepiece-0.1.95 tokenizers-0.8.1rc1 transformers-3.0.2\n",
      "Collecting imbalanced-learn\n",
      "\u001b[?25l  Downloading https://files.pythonhosted.org/packages/80/98/dc784205a7e3034e84d41ac4781660c67ad6327f2f5a80c568df31673d1c/imbalanced_learn-0.8.0-py3-none-any.whl (206kB)\n",
      "\u001b[K     |████████████████████████████████| 215kB 14.8MB/s \n",
      "\u001b[?25hRequirement already satisfied, skipping upgrade: joblib>=0.11 in /usr/local/lib/python3.7/dist-packages (from imbalanced-learn) (1.0.1)\n",
      "Requirement already satisfied, skipping upgrade: scipy>=0.19.1 in /usr/local/lib/python3.7/dist-packages (from imbalanced-learn) (1.4.1)\n",
      "Requirement already satisfied, skipping upgrade: numpy>=1.13.3 in /usr/local/lib/python3.7/dist-packages (from imbalanced-learn) (1.19.5)\n",
      "Collecting scikit-learn>=0.24\n",
      "\u001b[?25l  Downloading https://files.pythonhosted.org/packages/f3/74/eb899f41d55f957e2591cde5528e75871f817d9fb46d4732423ecaca736d/scikit_learn-0.24.1-cp37-cp37m-manylinux2010_x86_64.whl (22.3MB)\n",
      "\u001b[K     |████████████████████████████████| 22.3MB 1.5MB/s \n",
      "\u001b[?25hCollecting threadpoolctl>=2.0.0\n",
      "  Downloading https://files.pythonhosted.org/packages/f7/12/ec3f2e203afa394a149911729357aa48affc59c20e2c1c8297a60f33f133/threadpoolctl-2.1.0-py3-none-any.whl\n",
      "Installing collected packages: threadpoolctl, scikit-learn, imbalanced-learn\n",
      "  Found existing installation: scikit-learn 0.22.2.post1\n",
      "    Uninstalling scikit-learn-0.22.2.post1:\n",
      "      Successfully uninstalled scikit-learn-0.22.2.post1\n",
      "  Found existing installation: imbalanced-learn 0.4.3\n",
      "    Uninstalling imbalanced-learn-0.4.3:\n",
      "      Successfully uninstalled imbalanced-learn-0.4.3\n",
      "Successfully installed imbalanced-learn-0.8.0 scikit-learn-0.24.1 threadpoolctl-2.1.0\n"
     ]
    }
   ],
   "source": [
    "!pip install html2text\n",
    "!pip install transformers==3.0.2\n",
    "!pip install -U imbalanced-learn"
   ]
  },
  {
   "cell_type": "code",
   "execution_count": null,
   "metadata": {
    "id": "bp3XHBjcr30O"
   },
   "outputs": [],
   "source": [
    "from google.colab import drive\n",
    "drive.mount('/content/drive')\n"
   ]
  },
  {
   "cell_type": "code",
   "execution_count": null,
   "metadata": {
    "id": "zLV9DVkosBPF"
   },
   "outputs": [],
   "source": [
    "import nltk\n",
    "import pandas as pd \n",
    "from html2text import html2text\n",
    "import re\n",
    "import warnings\n",
    "import itertools\n",
    "import torch\n",
    "from tqdm.notebook import tqdm\n",
    "import chardet"
   ]
  },
  {
   "cell_type": "code",
   "execution_count": null,
   "metadata": {
    "id": "nmhCJuYH1snN"
   },
   "outputs": [],
   "source": [
    "from sklearn.model_selection import GridSearchCV\n",
    "from sklearn.metrics import classification_report\n",
    "from sklearn.neural_network import MLPClassifier\n",
    "from transformers import AutoTokenizer, AutoModel\n",
    "from sklearn.metrics import f1_score, classification_report\n",
    "from spacy.tokenizer import Tokenizer\n",
    "from spacy.lang.tr import Turkish\n",
    "from sklearn.model_selection import train_test_split\n",
    "from sklearn.utils import shuffle"
   ]
  },
  {
   "cell_type": "code",
   "execution_count": null,
   "metadata": {
    "id": "oJojwK3PGSKQ"
   },
   "outputs": [],
   "source": [
    "if torch.cuda.is_available():  \n",
    "    device = torch.device(\"cuda\")\n",
    "    print('We will use the GPU:', torch.cuda.get_device_name(0))\n",
    "    \n",
    "else:\n",
    "    print('No GPU available, using the CPU instead.')\n",
    "    device = torch.device(\"cpu\")"
   ]
  },
  {
   "cell_type": "code",
   "execution_count": null,
   "metadata": {
    "id": "nUJoR0gHsFJl"
   },
   "outputs": [],
   "source": [
    "raw_prodcuts1 = pd.read_csv(r\"/content/drive/MyDrive/Veri/Migros/products1Yeni.csv\", encoding=\"utf-8\", sep =\";\")\n",
    "raw_prodcuts2 = pd.read_csv(r\"/content/drive/MyDrive/Veri/Migros/products2Yeni.csv\", encoding=\"utf-8\", sep =\";\")\n",
    "raw_prodcuts3 = pd.read_csv(r\"/content/drive/MyDrive/Veri/Migros/products3Yeni.csv\", encoding=\"utf-8\", sep =\";\")\n",
    "raw_prodcuts4 = pd.read_csv(r\"/content/drive/MyDrive/Veri/Migros/products4Yeni.csv\", encoding=\"utf-8\", sep =\";\")\n",
    "\n",
    "raw_prodcuts5 = pd.read_csv(r\"/content/drive/MyDrive/Veri/CagriMarket/csv_veri/BebekUrunleri.csv\", encoding=\"utf-8\")\n",
    "raw_prodcuts6 = pd.read_csv(r\"/content/drive/MyDrive/Veri/CagriMarket/csv_veri/DeterjanVeTemizlik.csv\", encoding=\"utf-8\")\n",
    "raw_prodcuts7 = pd.read_csv(r\"/content/drive/MyDrive/Veri/CagriMarket/csv_veri/EtTavukHindi.csv\", encoding=\"utf-8\")\n",
    "raw_prodcuts8 = pd.read_csv(r\"/content/drive/MyDrive/Veri/CagriMarket/csv_veri/EvVeYasamUrunleri.csv\", encoding=\"utf-8\")\n",
    "raw_prodcuts9 = pd.read_csv(r\"/content/drive/MyDrive/Veri/CagriMarket/csv_veri/GidaSekerleme.csv\", encoding=\"utf-8\")\n",
    "raw_prodcuts10 = pd.read_csv(r\"/content/drive/MyDrive/Veri/CagriMarket/csv_veri/KagitUrunleri.csv\", encoding=\"utf-8\")\n",
    "raw_prodcuts11 = pd.read_csv(r\"/content/drive/MyDrive/Veri/CagriMarket/csv_veri/KisiselBakimVeKozmetik.csv\", encoding=\"utf-8\")\n",
    "raw_prodcuts12 = pd.read_csv(r\"/content/drive/MyDrive/Veri/CagriMarket/csv_veri/MeyveSebze.csv\", encoding=\"utf-8\")\n",
    "raw_prodcuts13 = pd.read_csv(r\"/content/drive/MyDrive/Veri/CagriMarket/csv_veri/PetShopUrunleri.csv\", encoding=\"utf-8\")\n",
    "raw_prodcuts14 = pd.read_csv(r\"/content/drive/MyDrive/Veri/CagriMarket/csv_veri/SutveKahvalti.csv\", encoding=\"utf-8\")\n",
    "raw_prodcuts15 = pd.read_csv(r\"/content/drive/MyDrive/Veri/CagriMarket/csv_veri/icecekler.csv\", encoding=\"utf-8\")\n"
   ]
  },
  {
   "cell_type": "code",
   "execution_count": null,
   "metadata": {
    "id": "EkecjXFMEBrg"
   },
   "outputs": [],
   "source": [
    "print(raw_prodcuts5[\"urunKategorileri\"].value_counts())\n",
    "print(raw_prodcuts6[\"urunKategorileri\"].value_counts())\n",
    "print(raw_prodcuts7[\"urunKategorileri\"].value_counts())\n",
    "print(raw_prodcuts8[\"urunKategorileri\"].value_counts())\n",
    "print(raw_prodcuts9[\"urunKategorileri\"].value_counts())\n",
    "print(raw_prodcuts10[\"urunKategorileri\"].value_counts())\n",
    "print(raw_prodcuts11[\"urunKategorileri\"].value_counts())\n",
    "print(raw_prodcuts12[\"urunKategorileri\"].value_counts())\n",
    "print(raw_prodcuts13[\"urunKategorileri\"].value_counts())\n",
    "print(raw_prodcuts14[\"urunKategorileri\"].value_counts())\n",
    "print(raw_prodcuts15[\"urunKategorileri\"].value_counts())"
   ]
  },
  {
   "cell_type": "code",
   "execution_count": null,
   "metadata": {
    "id": "1e79atevDHKk"
   },
   "outputs": [],
   "source": [
    "raw_prodcuts5[\"urunKategorileri\"] = \"Bebek, Oyuncak\"\n",
    "raw_prodcuts6[\"urunKategorileri\"] = \"Deterjan, Temizlik\"\n",
    "raw_prodcuts7[\"urunKategorileri\"] = \"Et, Tavuk, Balık\"\n",
    "raw_prodcuts8[\"urunKategorileri\"] = \"Ev, Pet\"\n",
    "raw_prodcuts9[\"urunKategorileri\"] = \"Gıda, Şekerleme\"\n",
    "raw_prodcuts10[\"urunKategorileri\"] = \"Kağıt, Kozmetik\"\n",
    "raw_prodcuts11[\"urunKategorileri\"] = \"Kağıt, Kozmetik\"\n",
    "raw_prodcuts12[\"urunKategorileri\"] = \"Meyve, Sebze\"\n",
    "raw_prodcuts13[\"urunKategorileri\"] = \"Ev, Pet\"\n",
    "raw_prodcuts14[\"urunKategorileri\"] = \"Süt, Kahvaltılık\"\n",
    "raw_prodcuts15[\"urunKategorileri\"] = \"İçecek\""
   ]
  },
  {
   "cell_type": "code",
   "execution_count": null,
   "metadata": {
    "colab": {
     "base_uri": "https://localhost:8080/"
    },
    "id": "msq2rBKpsjFs",
    "outputId": "e558e0e4-1743-4f9f-f3b6-552430eccecc"
   },
   "outputs": [
    {
     "name": "stdout",
     "output_type": "stream",
     "text": [
      "<class 'pandas.core.frame.DataFrame'>\n",
      "RangeIndex: 5000 entries, 0 to 4999\n",
      "Data columns (total 12 columns):\n",
      " #   Column                 Non-Null Count  Dtype  \n",
      "---  ------                 --------------  -----  \n",
      " 0   uMarka                 5000 non-null   object \n",
      " 1   urunKategorileri       5000 non-null   object \n",
      " 2   urunKategorileriTwo    4999 non-null   object \n",
      " 3   urunKategorileriThree  4855 non-null   object \n",
      " 4   urunKategorileriFour   2801 non-null   object \n",
      " 5   urunKategorileriFive   4 non-null      object \n",
      " 6   urunKategorileriSix    0 non-null      float64\n",
      " 7   urunKategorileriSeven  0 non-null      float64\n",
      " 8   urunAdi                5000 non-null   object \n",
      " 9   urunAciklama           4996 non-null   object \n",
      " 10  urunFoto               5000 non-null   object \n",
      " 11  urunURL                4999 non-null   object \n",
      "dtypes: float64(2), object(10)\n",
      "memory usage: 468.9+ KB\n"
     ]
    }
   ],
   "source": [
    "raw_prodcuts1.info()"
   ]
  },
  {
   "cell_type": "code",
   "execution_count": null,
   "metadata": {
    "colab": {
     "base_uri": "https://localhost:8080/"
    },
    "id": "7Ak7ytXnstbu",
    "outputId": "795309d1-1876-46e3-bc36-bdc57722a7af"
   },
   "outputs": [
    {
     "name": "stdout",
     "output_type": "stream",
     "text": [
      "<class 'pandas.core.frame.DataFrame'>\n",
      "RangeIndex: 5000 entries, 0 to 4999\n",
      "Data columns (total 12 columns):\n",
      " #   Column                 Non-Null Count  Dtype  \n",
      "---  ------                 --------------  -----  \n",
      " 0   uMarka                 5000 non-null   object \n",
      " 1   urunKategorileri       5000 non-null   object \n",
      " 2   urunKategorileriTwo    5000 non-null   object \n",
      " 3   urunKategorileriThree  4812 non-null   object \n",
      " 4   urunKategorileriFour   2294 non-null   object \n",
      " 5   urunKategorileriFive   3 non-null      object \n",
      " 6   urunKategorileriSix    0 non-null      float64\n",
      " 7   urunKategorileriSeven  0 non-null      float64\n",
      " 8   urunAdi                4998 non-null   object \n",
      " 9   urunAciklama           3972 non-null   object \n",
      " 10  urunFoto               5000 non-null   object \n",
      " 11  urunURL                5000 non-null   object \n",
      "dtypes: float64(2), object(10)\n",
      "memory usage: 468.9+ KB\n"
     ]
    }
   ],
   "source": [
    "raw_prodcuts2.info()"
   ]
  },
  {
   "cell_type": "code",
   "execution_count": null,
   "metadata": {
    "colab": {
     "base_uri": "https://localhost:8080/"
    },
    "id": "e9ZaCHRVsux2",
    "outputId": "ecdcd023-56d0-4135-bd72-3bb59f178f1b"
   },
   "outputs": [
    {
     "name": "stdout",
     "output_type": "stream",
     "text": [
      "<class 'pandas.core.frame.DataFrame'>\n",
      "RangeIndex: 5000 entries, 0 to 4999\n",
      "Data columns (total 13 columns):\n",
      " #   Column                 Non-Null Count  Dtype  \n",
      "---  ------                 --------------  -----  \n",
      " 0   uMarka                 5000 non-null   object \n",
      " 1   urunKategorileri       5000 non-null   object \n",
      " 2   urunKategorileriTwo    4999 non-null   object \n",
      " 3   urunKategorileriThree  4891 non-null   object \n",
      " 4   urunKategorileriFour   3395 non-null   object \n",
      " 5   urunKategorileriFive   0 non-null      float64\n",
      " 6   urunKategorileriSix    0 non-null      float64\n",
      " 7   urunKategorileriSeven  0 non-null      float64\n",
      " 8   Unnamed: 8             0 non-null      float64\n",
      " 9   urunAdi                5000 non-null   object \n",
      " 10  urunAciklama           3672 non-null   object \n",
      " 11  urunFoto               5000 non-null   object \n",
      " 12  urunURL                4999 non-null   object \n",
      "dtypes: float64(4), object(9)\n",
      "memory usage: 507.9+ KB\n"
     ]
    }
   ],
   "source": [
    "raw_prodcuts3.info()"
   ]
  },
  {
   "cell_type": "code",
   "execution_count": null,
   "metadata": {
    "colab": {
     "base_uri": "https://localhost:8080/"
    },
    "id": "gxFUEMxCsu3J",
    "outputId": "818d4e0b-4014-4240-a534-fb951e227d3b"
   },
   "outputs": [
    {
     "name": "stdout",
     "output_type": "stream",
     "text": [
      "<class 'pandas.core.frame.DataFrame'>\n",
      "RangeIndex: 387 entries, 0 to 386\n",
      "Data columns (total 12 columns):\n",
      " #   Column                 Non-Null Count  Dtype  \n",
      "---  ------                 --------------  -----  \n",
      " 0   uMarka                 387 non-null    object \n",
      " 1   urunKategorileri       387 non-null    object \n",
      " 2   urunKategorileriTwo    387 non-null    object \n",
      " 3   urunKategorileriThree  387 non-null    object \n",
      " 4   urunKategorileriFour   255 non-null    object \n",
      " 5   urunKategorileriFive   0 non-null      float64\n",
      " 6   urunKategorileriSix    0 non-null      float64\n",
      " 7   urunKategorileriSeven  0 non-null      float64\n",
      " 8   urunAdi                387 non-null    object \n",
      " 9   urunAciklama           295 non-null    object \n",
      " 10  urunFoto               387 non-null    object \n",
      " 11  urunURL                387 non-null    object \n",
      "dtypes: float64(3), object(9)\n",
      "memory usage: 36.4+ KB\n"
     ]
    }
   ],
   "source": [
    "raw_prodcuts4.info()"
   ]
  },
  {
   "cell_type": "code",
   "execution_count": null,
   "metadata": {
    "colab": {
     "base_uri": "https://localhost:8080/"
    },
    "id": "L4BR3GGusxrJ",
    "outputId": "f0e14657-a91f-4a97-b9e3-b1a2e610c2e9"
   },
   "outputs": [
    {
     "name": "stdout",
     "output_type": "stream",
     "text": [
      "DataFrame size = 18767\n"
     ]
    }
   ],
   "source": [
    "frames = [raw_prodcuts1, raw_prodcuts2, raw_prodcuts3, raw_prodcuts4, raw_prodcuts5,\n",
    "          raw_prodcuts6, raw_prodcuts7, raw_prodcuts8, raw_prodcuts9, raw_prodcuts10,\n",
    "          raw_prodcuts11, raw_prodcuts12, raw_prodcuts13, raw_prodcuts14, raw_prodcuts15]\n",
    "raw_dataframe = shuffle(pd.concat(frames))\n",
    "print(f\"DataFrame size = {len(raw_dataframe)}\")"
   ]
  },
  {
   "cell_type": "code",
   "execution_count": null,
   "metadata": {
    "id": "3Wasf1xvtVoi"
   },
   "outputs": [],
   "source": [
    "raw_dataframe.head()\n",
    "raw_dataframe.to_csv(\"/content/drive/MyDrive/birlesik_data.csv\",index = False)"
   ]
  },
  {
   "cell_type": "code",
   "execution_count": null,
   "metadata": {
    "id": "keknwqL1tC7o"
   },
   "outputs": [],
   "source": [
    "raw_dataframe[\"description\"] = raw_dataframe[\"uMarka\"] + \" \" + raw_dataframe[\"urunAdi\"]\n",
    "train_df = raw_dataframe[[\"urunKategorileri\", \"description\"]]"
   ]
  },
  {
   "cell_type": "code",
   "execution_count": null,
   "metadata": {
    "colab": {
     "base_uri": "https://localhost:8080/",
     "height": 204
    },
    "id": "8AEIDFZntoiz",
    "outputId": "94a7a283-6015-489d-b2e7-eeeb2e9b4675"
   },
   "outputs": [
    {
     "data": {
      "text/html": [
       "<div>\n",
       "<style scoped>\n",
       "    .dataframe tbody tr th:only-of-type {\n",
       "        vertical-align: middle;\n",
       "    }\n",
       "\n",
       "    .dataframe tbody tr th {\n",
       "        vertical-align: top;\n",
       "    }\n",
       "\n",
       "    .dataframe thead th {\n",
       "        text-align: right;\n",
       "    }\n",
       "</style>\n",
       "<table border=\"1\" class=\"dataframe\">\n",
       "  <thead>\n",
       "    <tr style=\"text-align: right;\">\n",
       "      <th></th>\n",
       "      <th>urunKategorileri</th>\n",
       "      <th>description</th>\n",
       "    </tr>\n",
       "  </thead>\n",
       "  <tbody>\n",
       "    <tr>\n",
       "      <th>2930</th>\n",
       "      <td>Bebek, Oyuncak</td>\n",
       "      <td>Bepanthol Bepanthol Baby Pişik Önleyici Krem 1...</td>\n",
       "    </tr>\n",
       "    <tr>\n",
       "      <th>3533</th>\n",
       "      <td>İçecek</td>\n",
       "      <td>Dimes Dimes Ekşi Elma 1 L - Migros</td>\n",
       "    </tr>\n",
       "    <tr>\n",
       "      <th>2552</th>\n",
       "      <td>Deterjan, Temizlik</td>\n",
       "      <td>Koroplast Koroplast Dolap İçi Çöp Torbası 10'L...</td>\n",
       "    </tr>\n",
       "    <tr>\n",
       "      <th>340</th>\n",
       "      <td>Süt, Kahvaltılık</td>\n",
       "      <td>Pınar Pınar Tereyağı 1 Kg - Migros</td>\n",
       "    </tr>\n",
       "    <tr>\n",
       "      <th>4629</th>\n",
       "      <td>Kağıt, Kozmetik</td>\n",
       "      <td>Elidor Elidor Anında Onarıcı Bakım Şampuanı 65...</td>\n",
       "    </tr>\n",
       "  </tbody>\n",
       "</table>\n",
       "</div>"
      ],
      "text/plain": [
       "        urunKategorileri                                        description\n",
       "2930      Bebek, Oyuncak  Bepanthol Bepanthol Baby Pişik Önleyici Krem 1...\n",
       "3533              İçecek                 Dimes Dimes Ekşi Elma 1 L - Migros\n",
       "2552  Deterjan, Temizlik  Koroplast Koroplast Dolap İçi Çöp Torbası 10'L...\n",
       "340     Süt, Kahvaltılık                 Pınar Pınar Tereyağı 1 Kg - Migros\n",
       "4629     Kağıt, Kozmetik  Elidor Elidor Anında Onarıcı Bakım Şampuanı 65..."
      ]
     },
     "execution_count": 16,
     "metadata": {
      "tags": []
     },
     "output_type": "execute_result"
    }
   ],
   "source": [
    "train_df.head()"
   ]
  },
  {
   "cell_type": "code",
   "execution_count": null,
   "metadata": {
    "colab": {
     "base_uri": "https://localhost:8080/"
    },
    "id": "oTuTZY-2uS63",
    "outputId": "8ae7dd7e-33ce-4968-d811-db7b4dfd37d2"
   },
   "outputs": [
    {
     "data": {
      "text/plain": [
       "urunKategorileri     0\n",
       "description         13\n",
       "dtype: int64"
      ]
     },
     "execution_count": 17,
     "metadata": {
      "tags": []
     },
     "output_type": "execute_result"
    }
   ],
   "source": [
    "train_df.isnull().sum()"
   ]
  },
  {
   "cell_type": "code",
   "execution_count": null,
   "metadata": {
    "colab": {
     "base_uri": "https://localhost:8080/"
    },
    "id": "3px3LxNZvLd3",
    "outputId": "cbb83b00-1ab2-4f39-cb85-6b5b1d118468"
   },
   "outputs": [
    {
     "data": {
      "text/plain": [
       "urunKategorileri    0\n",
       "description         0\n",
       "dtype: int64"
      ]
     },
     "execution_count": 18,
     "metadata": {
      "tags": []
     },
     "output_type": "execute_result"
    }
   ],
   "source": [
    "train_df = train_df.dropna()\n",
    "train_df.isnull().sum()"
   ]
  },
  {
   "cell_type": "code",
   "execution_count": null,
   "metadata": {
    "colab": {
     "base_uri": "https://localhost:8080/"
    },
    "id": "PG7z5aeAvR_2",
    "outputId": "2431f8fa-d1c4-4504-e797-1032906f3a42"
   },
   "outputs": [
    {
     "data": {
      "text/plain": [
       "(18754, 2)"
      ]
     },
     "execution_count": 19,
     "metadata": {
      "tags": []
     },
     "output_type": "execute_result"
    }
   ],
   "source": [
    "train_df.shape"
   ]
  },
  {
   "cell_type": "code",
   "execution_count": null,
   "metadata": {
    "colab": {
     "base_uri": "https://localhost:8080/",
     "height": 359
    },
    "id": "Z2W1vqYavbLl",
    "outputId": "4f5883ca-0b32-4664-db91-e06f5e1638c5"
   },
   "outputs": [
    {
     "data": {
      "text/html": [
       "<div>\n",
       "<style scoped>\n",
       "    .dataframe tbody tr th:only-of-type {\n",
       "        vertical-align: middle;\n",
       "    }\n",
       "\n",
       "    .dataframe tbody tr th {\n",
       "        vertical-align: top;\n",
       "    }\n",
       "\n",
       "    .dataframe thead th {\n",
       "        text-align: right;\n",
       "    }\n",
       "</style>\n",
       "<table border=\"1\" class=\"dataframe\">\n",
       "  <thead>\n",
       "    <tr style=\"text-align: right;\">\n",
       "      <th></th>\n",
       "      <th>urunKategorileri</th>\n",
       "      <th>description</th>\n",
       "    </tr>\n",
       "  </thead>\n",
       "  <tbody>\n",
       "    <tr>\n",
       "      <th>2930</th>\n",
       "      <td>Bebek, Oyuncak</td>\n",
       "      <td>Bepanthol Bepanthol Baby Pişik Önleyici Krem 1...</td>\n",
       "    </tr>\n",
       "    <tr>\n",
       "      <th>3533</th>\n",
       "      <td>İçecek</td>\n",
       "      <td>Dimes Dimes Ekşi Elma 1 L - Migros</td>\n",
       "    </tr>\n",
       "    <tr>\n",
       "      <th>2552</th>\n",
       "      <td>Deterjan, Temizlik</td>\n",
       "      <td>Koroplast Koroplast Dolap İçi Çöp Torbası 10'L...</td>\n",
       "    </tr>\n",
       "    <tr>\n",
       "      <th>340</th>\n",
       "      <td>Süt, Kahvaltılık</td>\n",
       "      <td>Pınar Pınar Tereyağı 1 Kg - Migros</td>\n",
       "    </tr>\n",
       "    <tr>\n",
       "      <th>4629</th>\n",
       "      <td>Kağıt, Kozmetik</td>\n",
       "      <td>Elidor Elidor Anında Onarıcı Bakım Şampuanı 65...</td>\n",
       "    </tr>\n",
       "    <tr>\n",
       "      <th>1648</th>\n",
       "      <td>Kağıt, Kozmetik</td>\n",
       "      <td>Maybelline Maybelline Super Stay Ink Kapatıcı ...</td>\n",
       "    </tr>\n",
       "    <tr>\n",
       "      <th>2419</th>\n",
       "      <td>Kağıt, Kozmetik</td>\n",
       "      <td>O.B O.b. Tampon Normal 16 Adet - Migros</td>\n",
       "    </tr>\n",
       "    <tr>\n",
       "      <th>162</th>\n",
       "      <td>Bebek, Oyuncak</td>\n",
       "      <td>Canbebe Canbebe Jumbo Midi 34 lü</td>\n",
       "    </tr>\n",
       "    <tr>\n",
       "      <th>836</th>\n",
       "      <td>Gıda, Şekerleme</td>\n",
       "      <td>Berrak Berrak Kapari Turşusu 180 G - Migros</td>\n",
       "    </tr>\n",
       "    <tr>\n",
       "      <th>1287</th>\n",
       "      <td>Bebek, Oyuncak</td>\n",
       "      <td>Bebelac Bebelac Gold 1 Bebek Sütü 900 G 0-6 Ay...</td>\n",
       "    </tr>\n",
       "  </tbody>\n",
       "</table>\n",
       "</div>"
      ],
      "text/plain": [
       "        urunKategorileri                                        description\n",
       "2930      Bebek, Oyuncak  Bepanthol Bepanthol Baby Pişik Önleyici Krem 1...\n",
       "3533              İçecek                 Dimes Dimes Ekşi Elma 1 L - Migros\n",
       "2552  Deterjan, Temizlik  Koroplast Koroplast Dolap İçi Çöp Torbası 10'L...\n",
       "340     Süt, Kahvaltılık                 Pınar Pınar Tereyağı 1 Kg - Migros\n",
       "4629     Kağıt, Kozmetik  Elidor Elidor Anında Onarıcı Bakım Şampuanı 65...\n",
       "1648     Kağıt, Kozmetik  Maybelline Maybelline Super Stay Ink Kapatıcı ...\n",
       "2419     Kağıt, Kozmetik            O.B O.b. Tampon Normal 16 Adet - Migros\n",
       "162       Bebek, Oyuncak                   Canbebe Canbebe Jumbo Midi 34 lü\n",
       "836      Gıda, Şekerleme        Berrak Berrak Kapari Turşusu 180 G - Migros\n",
       "1287      Bebek, Oyuncak  Bebelac Bebelac Gold 1 Bebek Sütü 900 G 0-6 Ay..."
      ]
     },
     "execution_count": 20,
     "metadata": {
      "tags": []
     },
     "output_type": "execute_result"
    }
   ],
   "source": [
    "train_df.head(10)"
   ]
  },
  {
   "cell_type": "code",
   "execution_count": null,
   "metadata": {
    "colab": {
     "base_uri": "https://localhost:8080/",
     "height": 204
    },
    "id": "zn87jDXcveLW",
    "outputId": "6cbddfae-74cb-48c0-885b-13fa61ed2075"
   },
   "outputs": [
    {
     "data": {
      "text/html": [
       "<div>\n",
       "<style scoped>\n",
       "    .dataframe tbody tr th:only-of-type {\n",
       "        vertical-align: middle;\n",
       "    }\n",
       "\n",
       "    .dataframe tbody tr th {\n",
       "        vertical-align: top;\n",
       "    }\n",
       "\n",
       "    .dataframe thead th {\n",
       "        text-align: right;\n",
       "    }\n",
       "</style>\n",
       "<table border=\"1\" class=\"dataframe\">\n",
       "  <thead>\n",
       "    <tr style=\"text-align: right;\">\n",
       "      <th></th>\n",
       "      <th>urunKategorileri</th>\n",
       "      <th>description</th>\n",
       "    </tr>\n",
       "  </thead>\n",
       "  <tbody>\n",
       "    <tr>\n",
       "      <th>824</th>\n",
       "      <td>Süt, Kahvaltılık</td>\n",
       "      <td>Teremyağ Teremyağ Gurme Kaymaklı Paket 250 G -...</td>\n",
       "    </tr>\n",
       "    <tr>\n",
       "      <th>4106</th>\n",
       "      <td>Kağıt, Kozmetik</td>\n",
       "      <td>Oral-B Oral-B Pulsar Diş Eti Ve Hassas Bakım D...</td>\n",
       "    </tr>\n",
       "    <tr>\n",
       "      <th>161</th>\n",
       "      <td>Ev, Pet</td>\n",
       "      <td>Züccaciye Sembol 182 Lake Çok Amaçlı Dolap 600...</td>\n",
       "    </tr>\n",
       "    <tr>\n",
       "      <th>4890</th>\n",
       "      <td>Bebek, Oyuncak</td>\n",
       "      <td>Reyondan İlk Kelimelerim. - Migros</td>\n",
       "    </tr>\n",
       "    <tr>\n",
       "      <th>3425</th>\n",
       "      <td>Ev, Pet</td>\n",
       "      <td>Roll-Up Roll-up Partydreams Plastik Bardak 25'...</td>\n",
       "    </tr>\n",
       "  </tbody>\n",
       "</table>\n",
       "</div>"
      ],
      "text/plain": [
       "      urunKategorileri                                        description\n",
       "824   Süt, Kahvaltılık  Teremyağ Teremyağ Gurme Kaymaklı Paket 250 G -...\n",
       "4106   Kağıt, Kozmetik  Oral-B Oral-B Pulsar Diş Eti Ve Hassas Bakım D...\n",
       "161            Ev, Pet  Züccaciye Sembol 182 Lake Çok Amaçlı Dolap 600...\n",
       "4890    Bebek, Oyuncak                 Reyondan İlk Kelimelerim. - Migros\n",
       "3425           Ev, Pet  Roll-Up Roll-up Partydreams Plastik Bardak 25'..."
      ]
     },
     "execution_count": 21,
     "metadata": {
      "tags": []
     },
     "output_type": "execute_result"
    }
   ],
   "source": [
    "train_df.tail()"
   ]
  },
  {
   "cell_type": "code",
   "execution_count": null,
   "metadata": {
    "colab": {
     "base_uri": "https://localhost:8080/"
    },
    "id": "k5o2wf1Bwc15",
    "outputId": "ce69633a-b322-4973-b5ff-557a0c142918"
   },
   "outputs": [
    {
     "name": "stdout",
     "output_type": "stream",
     "text": [
      "[nltk_data] Downloading package stopwords to /root/nltk_data...\n",
      "[nltk_data]   Unzipping corpora/stopwords.zip.\n",
      "['acaba', 'ama', 'aslında', 'az', 'bazı', 'belki', 'biri', 'birkaç', 'birşey', 'biz', 'bu', 'çok', 'çünkü', 'da', 'daha', 'de', 'defa', 'diye', 'eğer', 'en', 'gibi', 'hem', 'hep', 'hepsi', 'her', 'hiç', 'için', 'ile', 'ise', 'kez', 'ki', 'kim', 'mı', 'mu', 'mü', 'nasıl', 'ne', 'neden', 'nerde', 'nerede', 'nereye', 'niçin', 'niye', 'o', 'sanki', 'şey', 'siz', 'şu', 'tüm', 've', 'veya', 'ya', 'yani', 'migros', 'reyondan', 'orgnanik', 'gezen', 'boy', 'küçük']\n"
     ]
    }
   ],
   "source": [
    "nltk.download('stopwords')\n",
    "WPT = nltk.WordPunctTokenizer()\n",
    "stop_words_list = nltk.corpus.stopwords.words('turkish')\n",
    "#stop_words_list += [\"li\", \"lu\", \"lü\", \"gr\", \"kg\", \"ml\", \"lt\", \"migros\", \"g\",\n",
    "#                   \"cm\", \"m\", \"x\", \"l\", \"reyondan\"]\n",
    "stop_words_list += [\"migros\", \"reyondan\", \"orgnanik\", \"gezen\", \"boy\", \"küçük\"]\n",
    "print(stop_words_list)\n",
    "TAG_RE = re.compile(r'<[^>]+>')"
   ]
  },
  {
   "cell_type": "code",
   "execution_count": null,
   "metadata": {
    "id": "tsEetOoXvib2"
   },
   "outputs": [],
   "source": [
    "def html_totext(text):\n",
    "    return html2text(text)\n",
    "\n",
    "\n",
    "def remove_tags(text):\n",
    "    return TAG_RE.sub(' ', text) ##HTML TAGLERİNİ SİLER\n",
    "\n",
    "def lower_letters(txt):\n",
    "    txt = txt.replace(\"İ\", \"i\")\n",
    "    return txt.lower()\n",
    "\n",
    "\n",
    "def resub_comma(txt):\n",
    "    txt= txt.replace(\",\", \" \")\n",
    "    return txt\n",
    "\n",
    "\n",
    "def remove_stopwords(txt):\n",
    "    return ' '.join([word for word in txt.split() if word.strip() not in stop_words_list]) ## Yukarıdaki stopwordsleri siler\n",
    "\n",
    "\n",
    "def remove_punctuation(txt):\n",
    "    return re.sub(r'[^\\w\\s]', ' ', txt) \n",
    "\n",
    "\n",
    "def remove_repeatedLetter(txt):\n",
    "     return (''.join(i for i, _ in itertools.groupby(txt)))\n",
    " \n",
    "    \n",
    "def remove_integer(txt):\n",
    "    return ''.join([word for word in txt if not word.isdigit()])\n",
    "\n",
    "\n",
    "def just_one_word(txt):\n",
    "    #return ' '.join(set(txt.split(\" \")))\n",
    "    new_txt = []\n",
    "    for word in txt.split(' '):\n",
    "        if word not in new_txt:\n",
    "            new_txt.append(word)\n",
    "    return ' '.join(new_txt)\n",
    "\n",
    "\n",
    "def checkadem(txt):\n",
    "    return txt + \" adem\"\n",
    "\n",
    "def clean_text(txt):\n",
    "    txt = html_totext(txt)\n",
    "    txt = remove_tags(txt)\n",
    "    txt = lower_letters(txt)\n",
    "    txt = resub_comma(txt)\n",
    "    txt = remove_punctuation(txt)\n",
    "    txt = remove_stopwords(txt)\n",
    "    txt = remove_integer(txt)\n",
    "    txt = remove_repeatedLetter(txt)\n",
    "    txt = just_one_word(txt)\n",
    "    return txt"
   ]
  },
  {
   "cell_type": "code",
   "execution_count": null,
   "metadata": {
    "id": "ZaWno0xV0ZI7"
   },
   "outputs": [],
   "source": [
    "train_df[\"urunKategorileri\"] = train_df[\"urunKategorileri\"].apply(str.strip)"
   ]
  },
  {
   "cell_type": "code",
   "execution_count": null,
   "metadata": {
    "colab": {
     "base_uri": "https://localhost:8080/"
    },
    "id": "svmkONrE0hlK",
    "outputId": "6fa4ee85-2c5a-4768-926e-68b8b24927a4"
   },
   "outputs": [
    {
     "data": {
      "text/plain": [
       "Kağıt, Kozmetik       4225\n",
       "Ev, Pet               3763\n",
       "Gıda, Şekerleme       3497\n",
       "Deterjan, Temizlik    1990\n",
       "İçecek                1611\n",
       "Süt, Kahvaltılık      1457\n",
       "Bebek, Oyuncak        1369\n",
       "Et, Tavuk, Balık       505\n",
       "Meyve, Sebze           243\n",
       "Elektronik              56\n",
       "Shoulders               29\n",
       "Guy                      6\n",
       "Bugün Eklenenler         2\n",
       "Oreal                    1\n",
       "Name: urunKategorileri, dtype: int64"
      ]
     },
     "execution_count": 25,
     "metadata": {
      "tags": []
     },
     "output_type": "execute_result"
    }
   ],
   "source": [
    "train_df[\"urunKategorileri\"].value_counts()"
   ]
  },
  {
   "cell_type": "code",
   "execution_count": null,
   "metadata": {
    "id": "8V8YTsK4Opfl"
   },
   "outputs": [],
   "source": [
    "train_df = train_df[~train_df[\"urunKategorileri\"].isin([\"Bugün Eklenenler\", \"Elektronik\", \"Guy\", \"Shoulders\", \"Oreal\"])]"
   ]
  },
  {
   "cell_type": "code",
   "execution_count": null,
   "metadata": {
    "colab": {
     "base_uri": "https://localhost:8080/",
     "height": 204
    },
    "id": "rhED6FtEwsQX",
    "outputId": "d19ef86b-c762-4b6f-982e-d1cc76fadf44"
   },
   "outputs": [
    {
     "data": {
      "text/html": [
       "<div>\n",
       "<style scoped>\n",
       "    .dataframe tbody tr th:only-of-type {\n",
       "        vertical-align: middle;\n",
       "    }\n",
       "\n",
       "    .dataframe tbody tr th {\n",
       "        vertical-align: top;\n",
       "    }\n",
       "\n",
       "    .dataframe thead th {\n",
       "        text-align: right;\n",
       "    }\n",
       "</style>\n",
       "<table border=\"1\" class=\"dataframe\">\n",
       "  <thead>\n",
       "    <tr style=\"text-align: right;\">\n",
       "      <th></th>\n",
       "      <th>urunKategorileri</th>\n",
       "      <th>description</th>\n",
       "    </tr>\n",
       "  </thead>\n",
       "  <tbody>\n",
       "    <tr>\n",
       "      <th>2930</th>\n",
       "      <td>Bebek, Oyuncak</td>\n",
       "      <td>bepanthol baby pişik önleyici krem g</td>\n",
       "    </tr>\n",
       "    <tr>\n",
       "      <th>3533</th>\n",
       "      <td>İçecek</td>\n",
       "      <td>dimes ekşi elma l</td>\n",
       "    </tr>\n",
       "    <tr>\n",
       "      <th>2552</th>\n",
       "      <td>Deterjan, Temizlik</td>\n",
       "      <td>koroplast dolap içi çöp torbası lu</td>\n",
       "    </tr>\n",
       "    <tr>\n",
       "      <th>340</th>\n",
       "      <td>Süt, Kahvaltılık</td>\n",
       "      <td>pınar tereyağı kg</td>\n",
       "    </tr>\n",
       "    <tr>\n",
       "      <th>4629</th>\n",
       "      <td>Kağıt, Kozmetik</td>\n",
       "      <td>elidor anında onarıcı bakım şampuanı ml</td>\n",
       "    </tr>\n",
       "  </tbody>\n",
       "</table>\n",
       "</div>"
      ],
      "text/plain": [
       "        urunKategorileri                              description\n",
       "2930      Bebek, Oyuncak     bepanthol baby pişik önleyici krem g\n",
       "3533              İçecek                        dimes ekşi elma l\n",
       "2552  Deterjan, Temizlik       koroplast dolap içi çöp torbası lu\n",
       "340     Süt, Kahvaltılık                        pınar tereyağı kg\n",
       "4629     Kağıt, Kozmetik  elidor anında onarıcı bakım şampuanı ml"
      ]
     },
     "execution_count": 27,
     "metadata": {
      "tags": []
     },
     "output_type": "execute_result"
    }
   ],
   "source": [
    "train_df[\"description\"] = train_df[\"description\"].apply(clean_text)\n",
    "train_df.head()"
   ]
  },
  {
   "cell_type": "code",
   "execution_count": null,
   "metadata": {
    "colab": {
     "base_uri": "https://localhost:8080/"
    },
    "id": "cqhgaBZAPo3Q",
    "outputId": "cd5da9ed-5bdc-4a29-92bd-2df8508012a2"
   },
   "outputs": [
    {
     "data": {
      "text/plain": [
       "Kağıt, Kozmetik       4225\n",
       "Ev, Pet               3763\n",
       "Gıda, Şekerleme       3497\n",
       "Deterjan, Temizlik    1990\n",
       "İçecek                1611\n",
       "Süt, Kahvaltılık      1457\n",
       "Bebek, Oyuncak        1369\n",
       "Et, Tavuk, Balık       505\n",
       "Meyve, Sebze           243\n",
       "Name: urunKategorileri, dtype: int64"
      ]
     },
     "execution_count": 28,
     "metadata": {
      "tags": []
     },
     "output_type": "execute_result"
    }
   ],
   "source": [
    "s = train_df['description'].str.split(expand=True).stack().value_counts()\n",
    "train_df[\"urunKategorileri\"].value_counts()"
   ]
  },
  {
   "cell_type": "code",
   "execution_count": null,
   "metadata": {
    "id": "K4q4JOxqHObO"
   },
   "outputs": [],
   "source": [
    "train_df.to_csv(\"datalar.csv\", index = False)"
   ]
  },
  {
   "cell_type": "code",
   "execution_count": null,
   "metadata": {
    "colab": {
     "base_uri": "https://localhost:8080/",
     "height": 213,
     "referenced_widgets": [
      "7853cf5b3d1443649337828aa2a66ca1",
      "c4a0e0e0fb014606895b0409a47bac8f",
      "de06cb13c9a341cbad1b47de2a98f882",
      "a5c822288cc34433a20c79e949a36f3b",
      "47f2297b06584655bdc19719c775fda7",
      "626cf90a5b3240118542e55f91d8052e",
      "646716604f5d4c408381da1db6fe5c76",
      "30797fbf8a7d43fd9be40928a33d0f2c",
      "e1c5fbf65bb94d668cd3030451cb3fef",
      "31b8c90d8c88483a91dc2597ecfa7c96",
      "3f1325e11c404cec8cee5157572987e7",
      "594e444fb5c149b1bd17c773adc06514",
      "17286b1fd3ff4033b70dc075de3a33f0",
      "578a7931ebd34ddda39d6acaef55ca85",
      "fb7771dd26ed4db2ae46584f2b806f40",
      "079a2f4df111400b973558657adc13e6",
      "383e7e34fee44d3587eb17cf18ab7e40",
      "aa3e540dc35e44569ee5cdf24f228075",
      "ded7408f6ffb42018bbda10dcc549f8e",
      "43547b0ff58549ef97bd2fd59f12793e",
      "fad4ce1f01894e929056172c11a09651",
      "931b3f0229964d5bbaef215d99f60768",
      "3450ba59540545a8872e41f5ef1f0e3a",
      "db26997a41ec46c38885c23a89bd0561",
      "23ca32d6bfe849e9b9aba546fcfbb9c7",
      "96c0f0de92ac4c1cac8d5b8dace146a0",
      "dd1109a40fc7459cb9d16fcd0e7f63f9",
      "599fd1dad1f94d1d90f404003510cf58",
      "fc7a99fc2162421786b7e49d62b37ff2",
      "8e0b7528b06f4a15b9cacffd66cb8573",
      "3be59b7ee8cb4c33bd2a8fc1312940cb",
      "87cc7eead7f047c497193c1c20a5b638"
     ]
    },
    "id": "LNyu9iIZ1jM2",
    "outputId": "99710880-cb20-4041-ba16-cfd4e5597cf6"
   },
   "outputs": [
    {
     "data": {
      "application/vnd.jupyter.widget-view+json": {
       "model_id": "7853cf5b3d1443649337828aa2a66ca1",
       "version_major": 2,
       "version_minor": 0
      },
      "text/plain": [
       "HBox(children=(FloatProgress(value=0.0, description='Downloading', max=386.0, style=ProgressStyle(description_…"
      ]
     },
     "metadata": {
      "tags": []
     },
     "output_type": "display_data"
    },
    {
     "name": "stdout",
     "output_type": "stream",
     "text": [
      "\n"
     ]
    },
    {
     "data": {
      "application/vnd.jupyter.widget-view+json": {
       "model_id": "e1c5fbf65bb94d668cd3030451cb3fef",
       "version_major": 2,
       "version_minor": 0
      },
      "text/plain": [
       "HBox(children=(FloatProgress(value=0.0, description='Downloading', max=1233088.0, style=ProgressStyle(descript…"
      ]
     },
     "metadata": {
      "tags": []
     },
     "output_type": "display_data"
    },
    {
     "name": "stdout",
     "output_type": "stream",
     "text": [
      "\n"
     ]
    },
    {
     "data": {
      "application/vnd.jupyter.widget-view+json": {
       "model_id": "383e7e34fee44d3587eb17cf18ab7e40",
       "version_major": 2,
       "version_minor": 0
      },
      "text/plain": [
       "HBox(children=(FloatProgress(value=0.0, description='Downloading', max=59.0, style=ProgressStyle(description_w…"
      ]
     },
     "metadata": {
      "tags": []
     },
     "output_type": "display_data"
    },
    {
     "name": "stdout",
     "output_type": "stream",
     "text": [
      "\n"
     ]
    },
    {
     "data": {
      "application/vnd.jupyter.widget-view+json": {
       "model_id": "23ca32d6bfe849e9b9aba546fcfbb9c7",
       "version_major": 2,
       "version_minor": 0
      },
      "text/plain": [
       "HBox(children=(FloatProgress(value=0.0, description='Downloading', max=740314769.0, style=ProgressStyle(descri…"
      ]
     },
     "metadata": {
      "tags": []
     },
     "output_type": "display_data"
    },
    {
     "name": "stdout",
     "output_type": "stream",
     "text": [
      "\n"
     ]
    }
   ],
   "source": [
    "device = 'cuda'\n",
    "tokenizer = AutoTokenizer.from_pretrained(\"dbmdz/bert-base-turkish-128k-uncased\")\n",
    "bert = AutoModel.from_pretrained(\"dbmdz/bert-base-turkish-128k-uncased\").to(device)"
   ]
  },
  {
   "cell_type": "code",
   "execution_count": null,
   "metadata": {
    "id": "rNGfO6k417eV"
   },
   "outputs": [],
   "source": [
    "def feature_extraction(text):\n",
    "    x = tokenizer.encode(text)\n",
    "    with torch.no_grad():\n",
    "        x, _ = bert(torch.stack([torch.tensor(x)]).to(device))\n",
    "        return list(x[0][0].cpu().numpy())"
   ]
  },
  {
   "cell_type": "code",
   "execution_count": null,
   "metadata": {
    "colab": {
     "base_uri": "https://localhost:8080/"
    },
    "id": "bNiMTzpD19Rf",
    "outputId": "949c5a50-5a47-4322-a742-4a7d12056d1f"
   },
   "outputs": [
    {
     "data": {
      "text/plain": [
       "((18658, 2), (2, 2))"
      ]
     },
     "execution_count": 32,
     "metadata": {
      "tags": []
     },
     "output_type": "execute_result"
    }
   ],
   "source": [
    "train, test = train_test_split(train_df, test_size=0.0001, random_state=42)\n",
    "train.shape, test.shape"
   ]
  },
  {
   "cell_type": "code",
   "execution_count": null,
   "metadata": {
    "colab": {
     "base_uri": "https://localhost:8080/",
     "height": 419
    },
    "id": "9_WVO5dAqi62",
    "outputId": "9f6fc592-d99c-444e-ac9f-f89ae33e97b9"
   },
   "outputs": [
    {
     "data": {
      "text/html": [
       "<div>\n",
       "<style scoped>\n",
       "    .dataframe tbody tr th:only-of-type {\n",
       "        vertical-align: middle;\n",
       "    }\n",
       "\n",
       "    .dataframe tbody tr th {\n",
       "        vertical-align: top;\n",
       "    }\n",
       "\n",
       "    .dataframe thead th {\n",
       "        text-align: right;\n",
       "    }\n",
       "</style>\n",
       "<table border=\"1\" class=\"dataframe\">\n",
       "  <thead>\n",
       "    <tr style=\"text-align: right;\">\n",
       "      <th></th>\n",
       "      <th>urunKategorileri</th>\n",
       "      <th>description</th>\n",
       "    </tr>\n",
       "  </thead>\n",
       "  <tbody>\n",
       "    <tr>\n",
       "      <th>2930</th>\n",
       "      <td>Bebek, Oyuncak</td>\n",
       "      <td>bepanthol baby pişik önleyici krem g</td>\n",
       "    </tr>\n",
       "    <tr>\n",
       "      <th>3533</th>\n",
       "      <td>İçecek</td>\n",
       "      <td>dimes ekşi elma l</td>\n",
       "    </tr>\n",
       "    <tr>\n",
       "      <th>2552</th>\n",
       "      <td>Deterjan, Temizlik</td>\n",
       "      <td>koroplast dolap içi çöp torbası lu</td>\n",
       "    </tr>\n",
       "    <tr>\n",
       "      <th>340</th>\n",
       "      <td>Süt, Kahvaltılık</td>\n",
       "      <td>pınar tereyağı kg</td>\n",
       "    </tr>\n",
       "    <tr>\n",
       "      <th>4629</th>\n",
       "      <td>Kağıt, Kozmetik</td>\n",
       "      <td>elidor anında onarıcı bakım şampuanı ml</td>\n",
       "    </tr>\n",
       "    <tr>\n",
       "      <th>...</th>\n",
       "      <td>...</td>\n",
       "      <td>...</td>\n",
       "    </tr>\n",
       "    <tr>\n",
       "      <th>824</th>\n",
       "      <td>Süt, Kahvaltılık</td>\n",
       "      <td>teremyağ gurme kaymaklı paket g</td>\n",
       "    </tr>\n",
       "    <tr>\n",
       "      <th>4106</th>\n",
       "      <td>Kağıt, Kozmetik</td>\n",
       "      <td>oral b pulsar diş eti hasas bakım fırçası</td>\n",
       "    </tr>\n",
       "    <tr>\n",
       "      <th>161</th>\n",
       "      <td>Ev, Pet</td>\n",
       "      <td>zücaciye sembol lake amaçlı dolap x</td>\n",
       "    </tr>\n",
       "    <tr>\n",
       "      <th>4890</th>\n",
       "      <td>Bebek, Oyuncak</td>\n",
       "      <td>ilk kelimelerim</td>\n",
       "    </tr>\n",
       "    <tr>\n",
       "      <th>3425</th>\n",
       "      <td>Ev, Pet</td>\n",
       "      <td>rol up partydreams plastik bardak li altınyıld...</td>\n",
       "    </tr>\n",
       "  </tbody>\n",
       "</table>\n",
       "<p>18660 rows × 2 columns</p>\n",
       "</div>"
      ],
      "text/plain": [
       "        urunKategorileri                                        description\n",
       "2930      Bebek, Oyuncak               bepanthol baby pişik önleyici krem g\n",
       "3533              İçecek                                  dimes ekşi elma l\n",
       "2552  Deterjan, Temizlik                 koroplast dolap içi çöp torbası lu\n",
       "340     Süt, Kahvaltılık                                  pınar tereyağı kg\n",
       "4629     Kağıt, Kozmetik            elidor anında onarıcı bakım şampuanı ml\n",
       "...                  ...                                                ...\n",
       "824     Süt, Kahvaltılık                    teremyağ gurme kaymaklı paket g\n",
       "4106     Kağıt, Kozmetik          oral b pulsar diş eti hasas bakım fırçası\n",
       "161              Ev, Pet                zücaciye sembol lake amaçlı dolap x\n",
       "4890      Bebek, Oyuncak                                    ilk kelimelerim\n",
       "3425             Ev, Pet  rol up partydreams plastik bardak li altınyıld...\n",
       "\n",
       "[18660 rows x 2 columns]"
      ]
     },
     "execution_count": 33,
     "metadata": {
      "tags": []
     },
     "output_type": "execute_result"
    }
   ],
   "source": [
    "train_df"
   ]
  },
  {
   "cell_type": "code",
   "execution_count": null,
   "metadata": {
    "colab": {
     "base_uri": "https://localhost:8080/",
     "height": 419
    },
    "id": "h7mQylm7npDI",
    "outputId": "e87d9fe7-5c71-4d5d-86b6-100a3dace2c3"
   },
   "outputs": [
    {
     "data": {
      "text/html": [
       "<div>\n",
       "<style scoped>\n",
       "    .dataframe tbody tr th:only-of-type {\n",
       "        vertical-align: middle;\n",
       "    }\n",
       "\n",
       "    .dataframe tbody tr th {\n",
       "        vertical-align: top;\n",
       "    }\n",
       "\n",
       "    .dataframe thead th {\n",
       "        text-align: right;\n",
       "    }\n",
       "</style>\n",
       "<table border=\"1\" class=\"dataframe\">\n",
       "  <thead>\n",
       "    <tr style=\"text-align: right;\">\n",
       "      <th></th>\n",
       "      <th>product_category</th>\n",
       "      <th>name</th>\n",
       "    </tr>\n",
       "  </thead>\n",
       "  <tbody>\n",
       "    <tr>\n",
       "      <th>0</th>\n",
       "      <td>Süt, Kahvaltılık</td>\n",
       "      <td>serbest tavuk yumurtası li</td>\n",
       "    </tr>\n",
       "    <tr>\n",
       "      <th>1</th>\n",
       "      <td>Süt, Kahvaltılık</td>\n",
       "      <td>doğal köy yumurtası adet</td>\n",
       "    </tr>\n",
       "    <tr>\n",
       "      <th>2</th>\n",
       "      <td>Süt, Kahvaltılık</td>\n",
       "      <td>tavuk koy yumurtası ad</td>\n",
       "    </tr>\n",
       "    <tr>\n",
       "      <th>3</th>\n",
       "      <td>Süt, Kahvaltılık</td>\n",
       "      <td>serbest tavuk doğal köy yumurtası lı büyük gr</td>\n",
       "    </tr>\n",
       "    <tr>\n",
       "      <th>4</th>\n",
       "      <td>Süt, Kahvaltılık</td>\n",
       "      <td>organik yumurta lu</td>\n",
       "    </tr>\n",
       "    <tr>\n",
       "      <th>...</th>\n",
       "      <td>...</td>\n",
       "      <td>...</td>\n",
       "    </tr>\n",
       "    <tr>\n",
       "      <th>66</th>\n",
       "      <td>Süt, Kahvaltılık</td>\n",
       "      <td>lı renkli yumurtalık</td>\n",
       "    </tr>\n",
       "    <tr>\n",
       "      <th>67</th>\n",
       "      <td>Süt, Kahvaltılık</td>\n",
       "      <td>organik yumurta lu</td>\n",
       "    </tr>\n",
       "    <tr>\n",
       "      <th>68</th>\n",
       "      <td>Süt, Kahvaltılık</td>\n",
       "      <td>köy yumurtası adet</td>\n",
       "    </tr>\n",
       "    <tr>\n",
       "      <th>69</th>\n",
       "      <td>Süt, Kahvaltılık</td>\n",
       "      <td>organik lu m orta yumurta g adet</td>\n",
       "    </tr>\n",
       "    <tr>\n",
       "      <th>70</th>\n",
       "      <td>Süt, Kahvaltılık</td>\n",
       "      <td>orta gr organik yumurta gnz lı</td>\n",
       "    </tr>\n",
       "  </tbody>\n",
       "</table>\n",
       "<p>71 rows × 2 columns</p>\n",
       "</div>"
      ],
      "text/plain": [
       "    product_category                                           name\n",
       "0   Süt, Kahvaltılık                     serbest tavuk yumurtası li\n",
       "1   Süt, Kahvaltılık                       doğal köy yumurtası adet\n",
       "2   Süt, Kahvaltılık                         tavuk koy yumurtası ad\n",
       "3   Süt, Kahvaltılık  serbest tavuk doğal köy yumurtası lı büyük gr\n",
       "4   Süt, Kahvaltılık                             organik yumurta lu\n",
       "..               ...                                            ...\n",
       "66  Süt, Kahvaltılık                           lı renkli yumurtalık\n",
       "67  Süt, Kahvaltılık                             organik yumurta lu\n",
       "68  Süt, Kahvaltılık                             köy yumurtası adet\n",
       "69  Süt, Kahvaltılık               organik lu m orta yumurta g adet\n",
       "70  Süt, Kahvaltılık                 orta gr organik yumurta gnz lı\n",
       "\n",
       "[71 rows x 2 columns]"
      ]
     },
     "execution_count": 34,
     "metadata": {
      "tags": []
     },
     "output_type": "execute_result"
    }
   ],
   "source": [
    "test_data = pd.read_csv(\"/content/drive/MyDrive/trendyol_test_2.csv\", sep =\";\", encoding=\"utf-8\")\n",
    "test_data = test_data[[\"product_category\", \"name\"]]\n",
    "test_data[\"name\"] = test_data[\"name\"].apply(clean_text)\n",
    "test_data[\"product_category\"] = \"Süt, Kahvaltılık\"\n",
    "test = test_data \n",
    "test"
   ]
  },
  {
   "cell_type": "code",
   "execution_count": null,
   "metadata": {
    "colab": {
     "base_uri": "https://localhost:8080/",
     "height": 115,
     "referenced_widgets": [
      "37dd4f0ec9874bee9b842cd82ecf7c9f",
      "37c6efba855f4ecab5ffdbd3cf52a7c5",
      "d2dfaf7eea18440e9f2d7483ed66153e",
      "bc9fafb6811d42508d48dce26e5b2da9",
      "af7550296f1a46378d7bfcc42a5659d5",
      "d2b1dcff52654b6f8ad7b4622ba162e6",
      "8eb154d7f31d411aa02e8cd13fdb094f",
      "e676a470c70a4b99af7db9448d0bf5a7",
      "4e33ab0105ac4ce4a9b6c0816d241e0b",
      "4e273949987341e594c58aee8384ca5f",
      "c74a8ba5e05447cb9aa60694d73b0e84",
      "67b58587ae6646a9bfaa2a58df4f0cf5",
      "3222ec54bbb8473096832c8cb8722c2b",
      "eefefbbe7bfd4e67a0f6fd0e348f27bb",
      "b1bf3e80646b4e098669324cdc599cc7",
      "d047eedd34ba4c5ca5413ebcbb42c2a6"
     ]
    },
    "id": "LV_6mrgC2mYI",
    "outputId": "6adcf9b4-beea-492d-9be8-8a5a19355f20"
   },
   "outputs": [
    {
     "data": {
      "application/vnd.jupyter.widget-view+json": {
       "model_id": "37dd4f0ec9874bee9b842cd82ecf7c9f",
       "version_major": 2,
       "version_minor": 0
      },
      "text/plain": [
       "HBox(children=(FloatProgress(value=1.0, bar_style='info', max=1.0), HTML(value='')))"
      ]
     },
     "metadata": {
      "tags": []
     },
     "output_type": "display_data"
    },
    {
     "name": "stdout",
     "output_type": "stream",
     "text": [
      "\n"
     ]
    },
    {
     "data": {
      "application/vnd.jupyter.widget-view+json": {
       "model_id": "4e33ab0105ac4ce4a9b6c0816d241e0b",
       "version_major": 2,
       "version_minor": 0
      },
      "text/plain": [
       "HBox(children=(FloatProgress(value=1.0, bar_style='info', max=1.0), HTML(value='')))"
      ]
     },
     "metadata": {
      "tags": []
     },
     "output_type": "display_data"
    },
    {
     "name": "stdout",
     "output_type": "stream",
     "text": [
      "\n"
     ]
    }
   ],
   "source": [
    "X_train = []\n",
    "y_train = []\n",
    "X_test = []\n",
    "y_test = []\n",
    "for index, element in tqdm(train.iterrows()):\n",
    "    X_train.append(feature_extraction(element[1]))\n",
    "    y_train.append(element[0])\n",
    "for index, element in tqdm(test.iterrows()):\n",
    "    X_test.append(feature_extraction(element[1]))\n",
    "    y_test.append(element[0])"
   ]
  },
  {
   "cell_type": "code",
   "execution_count": null,
   "metadata": {
    "colab": {
     "base_uri": "https://localhost:8080/"
    },
    "id": "gnX3frM82uAQ",
    "outputId": "1b806505-d6a6-4ac3-a411-ac867826c251"
   },
   "outputs": [
    {
     "name": "stdout",
     "output_type": "stream",
     "text": [
      "Iteration 1, loss = 1.20478292\n",
      "Validation score: 0.705252\n",
      "Iteration 2, loss = 0.73117657\n",
      "Validation score: 0.771168\n",
      "Iteration 3, loss = 0.60477548\n",
      "Validation score: 0.793140\n",
      "Iteration 4, loss = 0.52525920\n",
      "Validation score: 0.781350\n",
      "Iteration 5, loss = 0.47753676\n",
      "Validation score: 0.811897\n",
      "Iteration 6, loss = 0.41663621\n",
      "Validation score: 0.807074\n",
      "Iteration 7, loss = 0.37721024\n",
      "Validation score: 0.821543\n",
      "Iteration 8, loss = 0.35427373\n",
      "Validation score: 0.823687\n",
      "Iteration 9, loss = 0.30828738\n",
      "Validation score: 0.840300\n",
      "Iteration 10, loss = 0.29729680\n",
      "Validation score: 0.837085\n",
      "Iteration 11, loss = 0.24710917\n",
      "Validation score: 0.848875\n",
      "Iteration 12, loss = 0.23460182\n",
      "Validation score: 0.848875\n",
      "Iteration 13, loss = 0.20798836\n",
      "Validation score: 0.861200\n",
      "Iteration 14, loss = 0.19321909\n",
      "Validation score: 0.856913\n",
      "Iteration 15, loss = 0.17518241\n",
      "Validation score: 0.840836\n",
      "Iteration 16, loss = 0.15935777\n",
      "Validation score: 0.853698\n",
      "Iteration 17, loss = 0.15400924\n",
      "Validation score: 0.851018\n",
      "Iteration 18, loss = 0.13066223\n",
      "Validation score: 0.855841\n",
      "Iteration 19, loss = 0.11101499\n",
      "Validation score: 0.856377\n",
      "Iteration 20, loss = 0.10052042\n",
      "Validation score: 0.819400\n",
      "Iteration 21, loss = 0.09708289\n",
      "Validation score: 0.848339\n",
      "Iteration 22, loss = 0.08016501\n",
      "Validation score: 0.860129\n",
      "Iteration 23, loss = 0.08354608\n",
      "Validation score: 0.852090\n",
      "Iteration 24, loss = 0.07005393\n",
      "Validation score: 0.861736\n",
      "Iteration 25, loss = 0.05941226\n",
      "Validation score: 0.856377\n",
      "Iteration 26, loss = 0.05672317\n",
      "Validation score: 0.864952\n",
      "Iteration 27, loss = 0.05258926\n",
      "Validation score: 0.870847\n",
      "Iteration 28, loss = 0.04606730\n",
      "Validation score: 0.862808\n",
      "Iteration 29, loss = 0.05742215\n",
      "Validation score: 0.848339\n",
      "Iteration 30, loss = 0.05031258\n",
      "Validation score: 0.867095\n",
      "Iteration 31, loss = 0.03148055\n",
      "Validation score: 0.864416\n",
      "Iteration 32, loss = 0.02872398\n",
      "Validation score: 0.863344\n",
      "Iteration 33, loss = 0.02932839\n",
      "Validation score: 0.860665\n",
      "Iteration 34, loss = 0.02537541\n",
      "Validation score: 0.860129\n",
      "Iteration 35, loss = 0.03488265\n",
      "Validation score: 0.853162\n",
      "Iteration 36, loss = 0.03401546\n",
      "Validation score: 0.861200\n",
      "Iteration 37, loss = 0.02639361\n",
      "Validation score: 0.862808\n",
      "Iteration 38, loss = 0.02864239\n",
      "Validation score: 0.858521\n",
      "Validation score did not improve more than tol=0.000100 for 10 consecutive epochs. Stopping.\n"
     ]
    }
   ],
   "source": [
    "model = MLPClassifier(hidden_layer_sizes=(128, 64), max_iter=1000,\n",
    "                      activation='tanh', solver='adam', \n",
    "                      alpha=1e-5, learning_rate='constant',\n",
    "                      verbose=1, early_stopping=True)\n",
    "model.fit(X_train, y_train)\n",
    "y_true, y_pred = y_test, model.predict(X_test)"
   ]
  },
  {
   "cell_type": "code",
   "execution_count": null,
   "metadata": {
    "colab": {
     "base_uri": "https://localhost:8080/"
    },
    "id": "a3ih5XPU2-L-",
    "outputId": "ce139583-100e-48aa-e819-7bdc3e88803f"
   },
   "outputs": [
    {
     "name": "stdout",
     "output_type": "stream",
     "text": [
      "                  precision    recall  f1-score   support\n",
      "\n",
      "  Bebek, Oyuncak       0.00      0.00      0.00         0\n",
      "Et, Tavuk, Balık       0.00      0.00      0.00         0\n",
      "         Ev, Pet       0.00      0.00      0.00         0\n",
      " Gıda, Şekerleme       0.00      0.00      0.00         0\n",
      " Kağıt, Kozmetik       0.00      0.00      0.00         0\n",
      "    Meyve, Sebze       0.00      0.00      0.00         0\n",
      "Süt, Kahvaltılık       1.00      0.32      0.49        71\n",
      "\n",
      "        accuracy                           0.32        71\n",
      "       macro avg       0.14      0.05      0.07        71\n",
      "    weighted avg       1.00      0.32      0.49        71\n",
      "\n"
     ]
    },
    {
     "name": "stderr",
     "output_type": "stream",
     "text": [
      "/usr/local/lib/python3.7/dist-packages/sklearn/metrics/_classification.py:1272: UndefinedMetricWarning: Recall and F-score are ill-defined and being set to 0.0 in labels with no true samples. Use `zero_division` parameter to control this behavior.\n",
      "  _warn_prf(average, modifier, msg_start, len(result))\n"
     ]
    }
   ],
   "source": [
    "print(classification_report(y_true, y_pred))"
   ]
  },
  {
   "cell_type": "code",
   "execution_count": null,
   "metadata": {
    "colab": {
     "base_uri": "https://localhost:8080/",
     "height": 71
    },
    "id": "oMwDDzQGd_z_",
    "outputId": "8260b863-0fd1-44cf-ee19-e7c1e19aec7d"
   },
   "outputs": [
    {
     "data": {
      "application/vnd.google.colaboratory.intrinsic+json": {
       "type": "string"
      },
      "text/plain": [
       "'from sklearn.naive_bayes import GaussianNB\\nfrom sklearn.linear_model import LogisticRegression\\nfrom sklearn.neighbors import KNeighborsClassifier\\nfrom sklearn.svm import SVC\\nfrom sklearn.tree import DecisionTreeClassifier\\nfrom sklearn.discriminant_analysis import LinearDiscriminantAnalysis\\nfrom sklearn.ensemble import RandomForestClassifier, AdaBoostClassifier, BaggingClassifier\\nfrom sklearn.neural_network import MLPClassifier'"
      ]
     },
     "execution_count": 38,
     "metadata": {
      "tags": []
     },
     "output_type": "execute_result"
    }
   ],
   "source": [
    "\"\"\"from sklearn.naive_bayes import GaussianNB\n",
    "from sklearn.linear_model import LogisticRegression\n",
    "from sklearn.neighbors import KNeighborsClassifier\n",
    "from sklearn.svm import SVC\n",
    "from sklearn.tree import DecisionTreeClassifier\n",
    "from sklearn.discriminant_analysis import LinearDiscriminantAnalysis\n",
    "from sklearn.ensemble import RandomForestClassifier, AdaBoostClassifier, BaggingClassifier\n",
    "from sklearn.neural_network import MLPClassifier\"\"\""
   ]
  },
  {
   "cell_type": "code",
   "execution_count": null,
   "metadata": {
    "colab": {
     "base_uri": "https://localhost:8080/",
     "height": 122
    },
    "id": "ETyTbPQ3eBNQ",
    "outputId": "520aacc1-ef54-4b8d-dc25-3607ef1b8805"
   },
   "outputs": [
    {
     "data": {
      "application/vnd.google.colaboratory.intrinsic+json": {
       "type": "string"
      },
      "text/plain": [
       "'models = []\\nmodels.append((\\'Logistic Regression\\', LogisticRegression()))\\nmodels.append((\\'Naive Bayes\\', GaussianNB()))\\nmodels.append((\\'Decision Tree (CART)\\',DecisionTreeClassifier())) \\nmodels.append((\\'K-NN\\', KNeighborsClassifier()))\\nmodels.append((\\'SVM\\', SVC()))\\nmodels.append((\\'AdaBoostClassifier\\', AdaBoostClassifier()))\\nmodels.append((\\'BaggingClassifier\\', BaggingClassifier()))\\nmodels.append((\\'RandomForestClassifier\\', RandomForestClassifier()))\\nmodels.append((\\'MLPClassifier\\', MLPClassifier()))\\n\\n#burada bir döngü vasıtasıyla tek tek bütün modelleri deneyerek sonuçları karşılaştırıyoruz. \\nfor name, modeld in models:\\n    modeld = modeld.fit(X_train, y_train)\\n    y_pred = modeld.predict(X_test)\\n    from sklearn import metrics\\n\\n    print(\"%s -> ACC: %%%.2f\" % (name,metrics.accuracy_score(y_test, y_pred)*100))'"
      ]
     },
     "execution_count": 39,
     "metadata": {
      "tags": []
     },
     "output_type": "execute_result"
    }
   ],
   "source": [
    "\"\"\"models = []\n",
    "models.append(('Logistic Regression', LogisticRegression()))\n",
    "models.append(('Naive Bayes', GaussianNB()))\n",
    "models.append(('Decision Tree (CART)',DecisionTreeClassifier())) \n",
    "models.append(('K-NN', KNeighborsClassifier()))\n",
    "models.append(('SVM', SVC()))\n",
    "models.append(('AdaBoostClassifier', AdaBoostClassifier()))\n",
    "models.append(('BaggingClassifier', BaggingClassifier()))\n",
    "models.append(('RandomForestClassifier', RandomForestClassifier()))\n",
    "models.append(('MLPClassifier', MLPClassifier()))\n",
    "\n",
    "#burada bir döngü vasıtasıyla tek tek bütün modelleri deneyerek sonuçları karşılaştırıyoruz. \n",
    "for name, modeld in models:\n",
    "    modeld = modeld.fit(X_train, y_train)\n",
    "    y_pred = modeld.predict(X_test)\n",
    "    from sklearn import metrics\n",
    "\n",
    "    print(\"%s -> ACC: %%%.2f\" % (name,metrics.accuracy_score(y_test, y_pred)*100))\"\"\""
   ]
  },
  {
   "cell_type": "code",
   "execution_count": null,
   "metadata": {
    "colab": {
     "base_uri": "https://localhost:8080/"
    },
    "id": "IsDxbOCKWIt7",
    "outputId": "25fc59b4-2f44-4b85-b7ed-3ca2c670acd8"
   },
   "outputs": [
    {
     "name": "stdout",
     "output_type": "stream",
     "text": [
      "['Gıda, Şekerleme']\n"
     ]
    }
   ],
   "source": [
    "test = \"Orta boy yumurta\"\n",
    "test = clean_text(test)\n",
    "X = feature_extraction(test)\n",
    "cc = model.predict([X])\n",
    "print(cc)"
   ]
  },
  {
   "cell_type": "code",
   "execution_count": null,
   "metadata": {
    "colab": {
     "base_uri": "https://localhost:8080/"
    },
    "id": "GnOKADxINUsi",
    "outputId": "eb22f555-381a-4cf4-a848-c19fbe21684b"
   },
   "outputs": [
    {
     "data": {
      "text/plain": [
       "71"
      ]
     },
     "execution_count": 41,
     "metadata": {
      "tags": []
     },
     "output_type": "execute_result"
    }
   ],
   "source": [
    "test_data = pd.read_csv(\"/content/drive/MyDrive/trendyol_test_2.csv\", sep=\";\", encoding=\"utf-8\")\n",
    "test_data = test_data[[\"product_category\", \"name\"]]\n",
    "len(test_data)"
   ]
  },
  {
   "cell_type": "code",
   "execution_count": null,
   "metadata": {
    "colab": {
     "base_uri": "https://localhost:8080/"
    },
    "id": "r8uOefMfP2ww",
    "outputId": "6cc28823-9da1-4d28-8578-67137474a90e"
   },
   "outputs": [
    {
     "name": "stdout",
     "output_type": "stream",
     "text": [
      "['Ev, Pet']\n"
     ]
    }
   ],
   "source": [
    "test = \"muz yerli\"\n",
    "test = clean_text(test)\n",
    "X = feature_extraction(test)\n",
    "cc = model.predict([X])\n",
    "print(cc)"
   ]
  },
  {
   "cell_type": "code",
   "execution_count": null,
   "metadata": {
    "colab": {
     "base_uri": "https://localhost:8080/"
    },
    "id": "MS1cPGzxOHsM",
    "outputId": "219d3476-f70d-4670-b2ff-976633c02b2a"
   },
   "outputs": [
    {
     "name": "stdout",
     "output_type": "stream",
     "text": [
      "Serbest Gezen Tavuk Yumurtası 15'li  ->  Et, Tavuk, Balık\n",
      "Doğal Köy Yumurtası 30 Adet  ->  Meyve, Sebze\n",
      "Gezen Tavuk Koy Yumurtası 30 Ad  ->  Süt, Kahvaltılık\n",
      "Serbest Gezen Tavuk,doğal Köy Yumurtası, 60'lı Büyük Boy (63-72gr)  ->  Gıda, Şekerleme\n",
      "Organik Yumurta 10 Lu  ->  Gıda, Şekerleme\n",
      "30'lu Küçük Boy (44-52 gr) Organik Yumurta  ->  Süt, Kahvaltılık\n",
      "60 Lı Büyük Boy (63-72 Gr) Organik Yumurta  ->  Ev, Pet\n",
      "Köy Yumurtası 20 Adet  ->  Gıda, Şekerleme\n",
      "Doğal Köy Yumurtası 30’lu Paket  ->  Süt, Kahvaltılık\n",
      "Köy Yumurta 20 Adetx3 Karton  ->  Gıda, Şekerleme\n",
      "Köy Yumuratsı Şile Ağvada Kendi Tavuklarımızdan  ->  Bebek, Oyuncak\n",
      "Bıldırcın Yumurtasi (10 Paket)  ->  Ev, Pet\n",
      "Porelin Yumurtalık 6 Adet  ->  Kağıt, Kozmetik\n",
      "60'lı Küçük Boy (44-52 Gr) Organik Yumurta  ->  Ev, Pet\n",
      "Organik Gezen Tavuk Yumurtası 30’lu Yumurta  ->  Süt, Kahvaltılık\n",
      "Yumurta Köy 60 Ad Organik M Boy Ferik Yumurtası Baskılı Ciflik Yumurtası Degil El Emeği Göz Nuru  ->  Süt, Kahvaltılık\n",
      "30'lu Büyük Boy (63-72gr) Gezen Tavuk Yumurtası  ->  Et, Tavuk, Balık\n",
      "Organik Yumurta 10'lu  ->  Gıda, Şekerleme\n",
      "30'lu Küçük Boy (44-52gr) Organik Yumurta  ->  Süt, Kahvaltılık\n",
      "Doğal Köy Yumurtası 15’Li Paket  ->  Süt, Kahvaltılık\n",
      "Bıldırcın Yumurtası Eko Paket  ->  Et, Tavuk, Balık\n",
      "Yumurta Köy 30 Ad Organik M Boy Ferik Yumurtası Baskılı Ciflik Yumurtası Degil El Emeği Göz Nuru  ->  Süt, Kahvaltılık\n",
      "Doğal Organik Yeşil Yumurta 5'li  ->  Süt, Kahvaltılık\n",
      "Irmaklar Organik 30'lu Küçük Boy Organik Yumurta (44-52gr)  ->  Süt, Kahvaltılık\n",
      "Organik Yumurta 10 Adet  ->  Meyve, Sebze\n",
      "Köy Yumurtası 30 Adet  ->  Gıda, Şekerleme\n",
      "Köy Yumurtası 30 Adet  ->  Gıda, Şekerleme\n",
      "Mutlu Sebzeler Doğal Köy Yumurtası 6’Lı Paket  ->  Gıda, Şekerleme\n",
      "6'lı Renkli Yumurtalık  ->  Kağıt, Kozmetik\n",
      "30'lu Büyük Boy (63-72gr) Organik Yumurta  ->  Et, Tavuk, Balık\n",
      "Gnz 6401 30'lu Orta Boy (53-62gr) Organik Yumurta  ->  Süt, Kahvaltılık\n",
      "Hindi Yumurtası 1 Adet  ->  Gıda, Şekerleme\n",
      "Bıldırcın Yumurtası 24 Adet  ->  Meyve, Sebze\n",
      "Adı Tadı Herseyiyle Organık 15 Ad Organik Yumurta  ->  Et, Tavuk, Balık\n",
      "Organik Yumurta 30 Adet Çiflikten Kapınıza Günlük  ->  Meyve, Sebze\n",
      "Gezen Tavuk Yumurtası 30 Lu  ->  Gıda, Şekerleme\n",
      "Irmaklar Organik 30'lu Büyük Boy Organik Yumurta (63-72gr)  ->  Süt, Kahvaltılık\n",
      "30'lu Orta Boy Organik Yumurta  ->  Süt, Kahvaltılık\n",
      "6'lı Renkli Yumurtalık  ->  Kağıt, Kozmetik\n",
      "Köy Yumurtasi 30 Adet  ->  Bebek, Oyuncak\n",
      "60'lı Küçük Boy (44-52Gr) Organik Yumurta  ->  Ev, Pet\n",
      "Doğal Köy Yumurtası 10’lu Paket  ->  Süt, Kahvaltılık\n",
      "Gezen Tavuk Yumurtası (15 Adet)  ->  Meyve, Sebze\n",
      "Gezen Köy Tavuk Yumurtası 5 'li  ->  Gıda, Şekerleme\n",
      "Organik Yumurta 30 Adet  ->  Meyve, Sebze\n",
      "Yumurta Köy 90 Ad Organik M Boy Ferik Yumurtası Baskılı Ciflik Yumurtası Degil El Emeği Göz Nuru  ->  Süt, Kahvaltılık\n",
      "Yumurta Köy 6 Ad Organik M Boy Ferik Yumurtası Baskılı Ciflik Yumurtası Degil El Emeği Göz Nuru  ->  Süt, Kahvaltılık\n",
      "Organik Yumurta  ->  Ev, Pet\n",
      "Organik Yumurta 10'lu  ->  Gıda, Şekerleme\n",
      "6'lı Renkli Yumurtalık  ->  Kağıt, Kozmetik\n",
      "Gerçek Koy Yumurtası Baskısız Kasesız Kumesten El Emeegı Goz Nuru Taptaze  ->  Süt, Kahvaltılık\n",
      "Köy Yumurtası 30 Adet  ->  Gıda, Şekerleme\n",
      "Gezen Tavuk Yumurtası(l Boy) 15li  ->  Gıda, Şekerleme\n",
      "Gezen Tavuk Doğal Köy Yumurtası 30 'lu  ->  Gıda, Şekerleme\n",
      "Gezen Tavuk Yumurtası 6 Adet  ->  Meyve, Sebze\n",
      "Organik Yumurta 30'lu (53-62 gr)  ->  Gıda, Şekerleme\n",
      "Doğal Köy Yumurtası 30'lu  ->  Süt, Kahvaltılık\n",
      "Gezen Tavuk Koy Yumurtası 60ad  ->  Süt, Kahvaltılık\n",
      "Organik Yumurta 60ad  ->  Et, Tavuk, Balık\n",
      "Organik Yumurta 30 Ad  ->  Et, Tavuk, Balık\n",
      "Günlük Köy Yumurtası  ->  Süt, Kahvaltılık\n",
      "Gezen Tavuk Yumurtası 10 Lu Paket Orta Boy  ->  Et, Tavuk, Balık\n",
      "Organik Yumurta 6 Lı Paket (53-62 Gr)  ->  Süt, Kahvaltılık\n",
      "15'li Gezen Tavuk Yumurtası Orta(m) Boy (53-62 Gr)  ->  Süt, Kahvaltılık\n",
      "Serbest Gezen Tavuk, Doğal Köy Yumurtası 30'lu  ->  Et, Tavuk, Balık\n",
      "Serbest Gezen Tavuk, Doğal Köy Yumurtası 15'li  ->  Et, Tavuk, Balık\n",
      "6'lı Renkli Yumurtalık  ->  Kağıt, Kozmetik\n",
      "Organik Yumurta 30'lu  ->  Gıda, Şekerleme\n",
      "Köy Yumurtası 30 Adet  ->  Gıda, Şekerleme\n",
      "Organik 10'lu M Orta Boy Yumurta (53-62g) *2 Adet  ->  Süt, Kahvaltılık\n",
      "Orta Boy 53-62 Gr Organik Yumurta Gnz6402 60'lı  ->  Ev, Pet\n",
      "0\n"
     ]
    }
   ],
   "source": [
    "wars = 0\n",
    "def test_ml(txt):\n",
    "    raw_txt = txt\n",
    "    txt = clean_text(txt)\n",
    "    X = feature_extraction(txt)\n",
    "    cc = model.predict([X])[0]\n",
    "\n",
    "\n",
    "    print(f\"{raw_txt}  ->  {cc}\")\n",
    "\n",
    "test_data[\"name\"].apply(test_ml)\n",
    "    #10DİPNOT\n",
    "print(wars)\n",
    "\n"
   ]
  },
  {
   "cell_type": "code",
   "execution_count": null,
   "metadata": {
    "id": "q834cwLloPO0"
   },
   "outputs": [],
   "source": [
    "#TODO: Kategori Bazında alt kategorileri öğret"
   ]
  },
  {
   "cell_type": "code",
   "execution_count": null,
   "metadata": {
    "id": "1RkMr8ftYhmr"
   },
   "outputs": [],
   "source": [
    "import pickle\n",
    "handle = open(\"marketML.dat\", \"wb\")\n",
    "pickle.dump(model, handle)\n",
    "handle.close()"
   ]
  },
  {
   "cell_type": "markdown",
   "metadata": {
    "id": "zV5S7xaqxGC1"
   },
   "source": [
    "# TODO:\n",
    "\n",
    "\n",
    "*   Süt ve Kahvaltı Kategorisinde en çok geçen kelimeler ve adetleri\n",
    "*   En fazla geçen kelime ve adetleri \n",
    "*   Diğer kategorilerde en çok geçen kelimeler ve adetleri\n",
    "*   İstegelsini dataları eğitime sok\n",
    "*   Yanlış bilenleri sayısı, Hangilerini yanlış bilmiş \n",
    "\n",
    "## linkler\n",
    "\n",
    "*    https://medium.com/spark-nlp/classification-of-texts-written-in-turkish-language-using-spark-nlp-aa9cc2b5aaba\n",
    "*   https://www.kaggle.com/ayhanc/bert-multilingual-for-turkish-text-classification\n"
   ]
  },
  {
   "cell_type": "markdown",
   "metadata": {
    "id": "Q_TE83ItEpio"
   },
   "source": [
    "**kalın metin**#TODO\n",
    "\n",
    "*    Farlı markaların aynı ürünlerini listeden çıkart\n",
    "*    Az olan kategorideki ürünlerin isimleri artır"
   ]
  },
  {
   "cell_type": "markdown",
   "metadata": {
    "id": "Yk8UrAHxFK_k"
   },
   "source": [
    "### Eğitim TODO:\n",
    "\n",
    "*   Berk 128 k nedir biz ne kullanmalıyız ?\n",
    "*   MLPClassifier doğruluğu attırmak için optimazyon değerleri türleri konu hakkında detaylı bilgi"
   ]
  },
  {
   "cell_type": "markdown",
   "metadata": {
    "id": "0SPiTpdRHeIa"
   },
   "source": [
    "### Furkan TODO:\n",
    "\n",
    "*   Veri Birleştir\n",
    "*   EDA Yap\n",
    "*   Tekrar eden verileri sil\n",
    "*   Az olan kategorileri çoğalta"
   ]
  },
  {
   "cell_type": "code",
   "execution_count": null,
   "metadata": {
    "id": "R52kV49YHjdC"
   },
   "outputs": [],
   "source": []
  }
 ],
 "metadata": {
  "accelerator": "GPU",
  "colab": {
   "collapsed_sections": [],
   "name": "marketML.ipynb",
   "provenance": []
  },
  "kernelspec": {
   "display_name": "Python 3",
   "language": "python",
   "name": "python3"
  },
  "language_info": {
   "codemirror_mode": {
    "name": "ipython",
    "version": 3
   },
   "file_extension": ".py",
   "mimetype": "text/x-python",
   "name": "python",
   "nbconvert_exporter": "python",
   "pygments_lexer": "ipython3",
   "version": "3.8.3"
  },
  "widgets": {
   "application/vnd.jupyter.widget-state+json": {
    "079a2f4df111400b973558657adc13e6": {
     "model_module": "@jupyter-widgets/base",
     "model_name": "LayoutModel",
     "state": {
      "_model_module": "@jupyter-widgets/base",
      "_model_module_version": "1.2.0",
      "_model_name": "LayoutModel",
      "_view_count": null,
      "_view_module": "@jupyter-widgets/base",
      "_view_module_version": "1.2.0",
      "_view_name": "LayoutView",
      "align_content": null,
      "align_items": null,
      "align_self": null,
      "border": null,
      "bottom": null,
      "display": null,
      "flex": null,
      "flex_flow": null,
      "grid_area": null,
      "grid_auto_columns": null,
      "grid_auto_flow": null,
      "grid_auto_rows": null,
      "grid_column": null,
      "grid_gap": null,
      "grid_row": null,
      "grid_template_areas": null,
      "grid_template_columns": null,
      "grid_template_rows": null,
      "height": null,
      "justify_content": null,
      "justify_items": null,
      "left": null,
      "margin": null,
      "max_height": null,
      "max_width": null,
      "min_height": null,
      "min_width": null,
      "object_fit": null,
      "object_position": null,
      "order": null,
      "overflow": null,
      "overflow_x": null,
      "overflow_y": null,
      "padding": null,
      "right": null,
      "top": null,
      "visibility": null,
      "width": null
     }
    },
    "17286b1fd3ff4033b70dc075de3a33f0": {
     "model_module": "@jupyter-widgets/controls",
     "model_name": "ProgressStyleModel",
     "state": {
      "_model_module": "@jupyter-widgets/controls",
      "_model_module_version": "1.5.0",
      "_model_name": "ProgressStyleModel",
      "_view_count": null,
      "_view_module": "@jupyter-widgets/base",
      "_view_module_version": "1.2.0",
      "_view_name": "StyleView",
      "bar_color": null,
      "description_width": "initial"
     }
    },
    "23ca32d6bfe849e9b9aba546fcfbb9c7": {
     "model_module": "@jupyter-widgets/controls",
     "model_name": "HBoxModel",
     "state": {
      "_dom_classes": [],
      "_model_module": "@jupyter-widgets/controls",
      "_model_module_version": "1.5.0",
      "_model_name": "HBoxModel",
      "_view_count": null,
      "_view_module": "@jupyter-widgets/controls",
      "_view_module_version": "1.5.0",
      "_view_name": "HBoxView",
      "box_style": "",
      "children": [
       "IPY_MODEL_dd1109a40fc7459cb9d16fcd0e7f63f9",
       "IPY_MODEL_599fd1dad1f94d1d90f404003510cf58"
      ],
      "layout": "IPY_MODEL_96c0f0de92ac4c1cac8d5b8dace146a0"
     }
    },
    "30797fbf8a7d43fd9be40928a33d0f2c": {
     "model_module": "@jupyter-widgets/base",
     "model_name": "LayoutModel",
     "state": {
      "_model_module": "@jupyter-widgets/base",
      "_model_module_version": "1.2.0",
      "_model_name": "LayoutModel",
      "_view_count": null,
      "_view_module": "@jupyter-widgets/base",
      "_view_module_version": "1.2.0",
      "_view_name": "LayoutView",
      "align_content": null,
      "align_items": null,
      "align_self": null,
      "border": null,
      "bottom": null,
      "display": null,
      "flex": null,
      "flex_flow": null,
      "grid_area": null,
      "grid_auto_columns": null,
      "grid_auto_flow": null,
      "grid_auto_rows": null,
      "grid_column": null,
      "grid_gap": null,
      "grid_row": null,
      "grid_template_areas": null,
      "grid_template_columns": null,
      "grid_template_rows": null,
      "height": null,
      "justify_content": null,
      "justify_items": null,
      "left": null,
      "margin": null,
      "max_height": null,
      "max_width": null,
      "min_height": null,
      "min_width": null,
      "object_fit": null,
      "object_position": null,
      "order": null,
      "overflow": null,
      "overflow_x": null,
      "overflow_y": null,
      "padding": null,
      "right": null,
      "top": null,
      "visibility": null,
      "width": null
     }
    },
    "31b8c90d8c88483a91dc2597ecfa7c96": {
     "model_module": "@jupyter-widgets/base",
     "model_name": "LayoutModel",
     "state": {
      "_model_module": "@jupyter-widgets/base",
      "_model_module_version": "1.2.0",
      "_model_name": "LayoutModel",
      "_view_count": null,
      "_view_module": "@jupyter-widgets/base",
      "_view_module_version": "1.2.0",
      "_view_name": "LayoutView",
      "align_content": null,
      "align_items": null,
      "align_self": null,
      "border": null,
      "bottom": null,
      "display": null,
      "flex": null,
      "flex_flow": null,
      "grid_area": null,
      "grid_auto_columns": null,
      "grid_auto_flow": null,
      "grid_auto_rows": null,
      "grid_column": null,
      "grid_gap": null,
      "grid_row": null,
      "grid_template_areas": null,
      "grid_template_columns": null,
      "grid_template_rows": null,
      "height": null,
      "justify_content": null,
      "justify_items": null,
      "left": null,
      "margin": null,
      "max_height": null,
      "max_width": null,
      "min_height": null,
      "min_width": null,
      "object_fit": null,
      "object_position": null,
      "order": null,
      "overflow": null,
      "overflow_x": null,
      "overflow_y": null,
      "padding": null,
      "right": null,
      "top": null,
      "visibility": null,
      "width": null
     }
    },
    "3222ec54bbb8473096832c8cb8722c2b": {
     "model_module": "@jupyter-widgets/controls",
     "model_name": "ProgressStyleModel",
     "state": {
      "_model_module": "@jupyter-widgets/controls",
      "_model_module_version": "1.5.0",
      "_model_name": "ProgressStyleModel",
      "_view_count": null,
      "_view_module": "@jupyter-widgets/base",
      "_view_module_version": "1.2.0",
      "_view_name": "StyleView",
      "bar_color": null,
      "description_width": "initial"
     }
    },
    "3450ba59540545a8872e41f5ef1f0e3a": {
     "model_module": "@jupyter-widgets/controls",
     "model_name": "DescriptionStyleModel",
     "state": {
      "_model_module": "@jupyter-widgets/controls",
      "_model_module_version": "1.5.0",
      "_model_name": "DescriptionStyleModel",
      "_view_count": null,
      "_view_module": "@jupyter-widgets/base",
      "_view_module_version": "1.2.0",
      "_view_name": "StyleView",
      "description_width": ""
     }
    },
    "37c6efba855f4ecab5ffdbd3cf52a7c5": {
     "model_module": "@jupyter-widgets/base",
     "model_name": "LayoutModel",
     "state": {
      "_model_module": "@jupyter-widgets/base",
      "_model_module_version": "1.2.0",
      "_model_name": "LayoutModel",
      "_view_count": null,
      "_view_module": "@jupyter-widgets/base",
      "_view_module_version": "1.2.0",
      "_view_name": "LayoutView",
      "align_content": null,
      "align_items": null,
      "align_self": null,
      "border": null,
      "bottom": null,
      "display": null,
      "flex": null,
      "flex_flow": null,
      "grid_area": null,
      "grid_auto_columns": null,
      "grid_auto_flow": null,
      "grid_auto_rows": null,
      "grid_column": null,
      "grid_gap": null,
      "grid_row": null,
      "grid_template_areas": null,
      "grid_template_columns": null,
      "grid_template_rows": null,
      "height": null,
      "justify_content": null,
      "justify_items": null,
      "left": null,
      "margin": null,
      "max_height": null,
      "max_width": null,
      "min_height": null,
      "min_width": null,
      "object_fit": null,
      "object_position": null,
      "order": null,
      "overflow": null,
      "overflow_x": null,
      "overflow_y": null,
      "padding": null,
      "right": null,
      "top": null,
      "visibility": null,
      "width": null
     }
    },
    "37dd4f0ec9874bee9b842cd82ecf7c9f": {
     "model_module": "@jupyter-widgets/controls",
     "model_name": "HBoxModel",
     "state": {
      "_dom_classes": [],
      "_model_module": "@jupyter-widgets/controls",
      "_model_module_version": "1.5.0",
      "_model_name": "HBoxModel",
      "_view_count": null,
      "_view_module": "@jupyter-widgets/controls",
      "_view_module_version": "1.5.0",
      "_view_name": "HBoxView",
      "box_style": "",
      "children": [
       "IPY_MODEL_d2dfaf7eea18440e9f2d7483ed66153e",
       "IPY_MODEL_bc9fafb6811d42508d48dce26e5b2da9"
      ],
      "layout": "IPY_MODEL_37c6efba855f4ecab5ffdbd3cf52a7c5"
     }
    },
    "383e7e34fee44d3587eb17cf18ab7e40": {
     "model_module": "@jupyter-widgets/controls",
     "model_name": "HBoxModel",
     "state": {
      "_dom_classes": [],
      "_model_module": "@jupyter-widgets/controls",
      "_model_module_version": "1.5.0",
      "_model_name": "HBoxModel",
      "_view_count": null,
      "_view_module": "@jupyter-widgets/controls",
      "_view_module_version": "1.5.0",
      "_view_name": "HBoxView",
      "box_style": "",
      "children": [
       "IPY_MODEL_ded7408f6ffb42018bbda10dcc549f8e",
       "IPY_MODEL_43547b0ff58549ef97bd2fd59f12793e"
      ],
      "layout": "IPY_MODEL_aa3e540dc35e44569ee5cdf24f228075"
     }
    },
    "3be59b7ee8cb4c33bd2a8fc1312940cb": {
     "model_module": "@jupyter-widgets/controls",
     "model_name": "DescriptionStyleModel",
     "state": {
      "_model_module": "@jupyter-widgets/controls",
      "_model_module_version": "1.5.0",
      "_model_name": "DescriptionStyleModel",
      "_view_count": null,
      "_view_module": "@jupyter-widgets/base",
      "_view_module_version": "1.2.0",
      "_view_name": "StyleView",
      "description_width": ""
     }
    },
    "3f1325e11c404cec8cee5157572987e7": {
     "model_module": "@jupyter-widgets/controls",
     "model_name": "FloatProgressModel",
     "state": {
      "_dom_classes": [],
      "_model_module": "@jupyter-widgets/controls",
      "_model_module_version": "1.5.0",
      "_model_name": "FloatProgressModel",
      "_view_count": null,
      "_view_module": "@jupyter-widgets/controls",
      "_view_module_version": "1.5.0",
      "_view_name": "ProgressView",
      "bar_style": "success",
      "description": "Downloading: 100%",
      "description_tooltip": null,
      "layout": "IPY_MODEL_578a7931ebd34ddda39d6acaef55ca85",
      "max": 1233088,
      "min": 0,
      "orientation": "horizontal",
      "style": "IPY_MODEL_17286b1fd3ff4033b70dc075de3a33f0",
      "value": 1233088
     }
    },
    "43547b0ff58549ef97bd2fd59f12793e": {
     "model_module": "@jupyter-widgets/controls",
     "model_name": "HTMLModel",
     "state": {
      "_dom_classes": [],
      "_model_module": "@jupyter-widgets/controls",
      "_model_module_version": "1.5.0",
      "_model_name": "HTMLModel",
      "_view_count": null,
      "_view_module": "@jupyter-widgets/controls",
      "_view_module_version": "1.5.0",
      "_view_name": "HTMLView",
      "description": "",
      "description_tooltip": null,
      "layout": "IPY_MODEL_db26997a41ec46c38885c23a89bd0561",
      "placeholder": "​",
      "style": "IPY_MODEL_3450ba59540545a8872e41f5ef1f0e3a",
      "value": " 59.0/59.0 [00:00&lt;00:00, 371B/s]"
     }
    },
    "47f2297b06584655bdc19719c775fda7": {
     "model_module": "@jupyter-widgets/controls",
     "model_name": "ProgressStyleModel",
     "state": {
      "_model_module": "@jupyter-widgets/controls",
      "_model_module_version": "1.5.0",
      "_model_name": "ProgressStyleModel",
      "_view_count": null,
      "_view_module": "@jupyter-widgets/base",
      "_view_module_version": "1.2.0",
      "_view_name": "StyleView",
      "bar_color": null,
      "description_width": "initial"
     }
    },
    "4e273949987341e594c58aee8384ca5f": {
     "model_module": "@jupyter-widgets/base",
     "model_name": "LayoutModel",
     "state": {
      "_model_module": "@jupyter-widgets/base",
      "_model_module_version": "1.2.0",
      "_model_name": "LayoutModel",
      "_view_count": null,
      "_view_module": "@jupyter-widgets/base",
      "_view_module_version": "1.2.0",
      "_view_name": "LayoutView",
      "align_content": null,
      "align_items": null,
      "align_self": null,
      "border": null,
      "bottom": null,
      "display": null,
      "flex": null,
      "flex_flow": null,
      "grid_area": null,
      "grid_auto_columns": null,
      "grid_auto_flow": null,
      "grid_auto_rows": null,
      "grid_column": null,
      "grid_gap": null,
      "grid_row": null,
      "grid_template_areas": null,
      "grid_template_columns": null,
      "grid_template_rows": null,
      "height": null,
      "justify_content": null,
      "justify_items": null,
      "left": null,
      "margin": null,
      "max_height": null,
      "max_width": null,
      "min_height": null,
      "min_width": null,
      "object_fit": null,
      "object_position": null,
      "order": null,
      "overflow": null,
      "overflow_x": null,
      "overflow_y": null,
      "padding": null,
      "right": null,
      "top": null,
      "visibility": null,
      "width": null
     }
    },
    "4e33ab0105ac4ce4a9b6c0816d241e0b": {
     "model_module": "@jupyter-widgets/controls",
     "model_name": "HBoxModel",
     "state": {
      "_dom_classes": [],
      "_model_module": "@jupyter-widgets/controls",
      "_model_module_version": "1.5.0",
      "_model_name": "HBoxModel",
      "_view_count": null,
      "_view_module": "@jupyter-widgets/controls",
      "_view_module_version": "1.5.0",
      "_view_name": "HBoxView",
      "box_style": "",
      "children": [
       "IPY_MODEL_c74a8ba5e05447cb9aa60694d73b0e84",
       "IPY_MODEL_67b58587ae6646a9bfaa2a58df4f0cf5"
      ],
      "layout": "IPY_MODEL_4e273949987341e594c58aee8384ca5f"
     }
    },
    "578a7931ebd34ddda39d6acaef55ca85": {
     "model_module": "@jupyter-widgets/base",
     "model_name": "LayoutModel",
     "state": {
      "_model_module": "@jupyter-widgets/base",
      "_model_module_version": "1.2.0",
      "_model_name": "LayoutModel",
      "_view_count": null,
      "_view_module": "@jupyter-widgets/base",
      "_view_module_version": "1.2.0",
      "_view_name": "LayoutView",
      "align_content": null,
      "align_items": null,
      "align_self": null,
      "border": null,
      "bottom": null,
      "display": null,
      "flex": null,
      "flex_flow": null,
      "grid_area": null,
      "grid_auto_columns": null,
      "grid_auto_flow": null,
      "grid_auto_rows": null,
      "grid_column": null,
      "grid_gap": null,
      "grid_row": null,
      "grid_template_areas": null,
      "grid_template_columns": null,
      "grid_template_rows": null,
      "height": null,
      "justify_content": null,
      "justify_items": null,
      "left": null,
      "margin": null,
      "max_height": null,
      "max_width": null,
      "min_height": null,
      "min_width": null,
      "object_fit": null,
      "object_position": null,
      "order": null,
      "overflow": null,
      "overflow_x": null,
      "overflow_y": null,
      "padding": null,
      "right": null,
      "top": null,
      "visibility": null,
      "width": null
     }
    },
    "594e444fb5c149b1bd17c773adc06514": {
     "model_module": "@jupyter-widgets/controls",
     "model_name": "HTMLModel",
     "state": {
      "_dom_classes": [],
      "_model_module": "@jupyter-widgets/controls",
      "_model_module_version": "1.5.0",
      "_model_name": "HTMLModel",
      "_view_count": null,
      "_view_module": "@jupyter-widgets/controls",
      "_view_module_version": "1.5.0",
      "_view_name": "HTMLView",
      "description": "",
      "description_tooltip": null,
      "layout": "IPY_MODEL_079a2f4df111400b973558657adc13e6",
      "placeholder": "​",
      "style": "IPY_MODEL_fb7771dd26ed4db2ae46584f2b806f40",
      "value": " 1.23M/1.23M [00:00&lt;00:00, 3.95MB/s]"
     }
    },
    "599fd1dad1f94d1d90f404003510cf58": {
     "model_module": "@jupyter-widgets/controls",
     "model_name": "HTMLModel",
     "state": {
      "_dom_classes": [],
      "_model_module": "@jupyter-widgets/controls",
      "_model_module_version": "1.5.0",
      "_model_name": "HTMLModel",
      "_view_count": null,
      "_view_module": "@jupyter-widgets/controls",
      "_view_module_version": "1.5.0",
      "_view_name": "HTMLView",
      "description": "",
      "description_tooltip": null,
      "layout": "IPY_MODEL_87cc7eead7f047c497193c1c20a5b638",
      "placeholder": "​",
      "style": "IPY_MODEL_3be59b7ee8cb4c33bd2a8fc1312940cb",
      "value": " 740M/740M [00:19&lt;00:00, 37.6MB/s]"
     }
    },
    "626cf90a5b3240118542e55f91d8052e": {
     "model_module": "@jupyter-widgets/base",
     "model_name": "LayoutModel",
     "state": {
      "_model_module": "@jupyter-widgets/base",
      "_model_module_version": "1.2.0",
      "_model_name": "LayoutModel",
      "_view_count": null,
      "_view_module": "@jupyter-widgets/base",
      "_view_module_version": "1.2.0",
      "_view_name": "LayoutView",
      "align_content": null,
      "align_items": null,
      "align_self": null,
      "border": null,
      "bottom": null,
      "display": null,
      "flex": null,
      "flex_flow": null,
      "grid_area": null,
      "grid_auto_columns": null,
      "grid_auto_flow": null,
      "grid_auto_rows": null,
      "grid_column": null,
      "grid_gap": null,
      "grid_row": null,
      "grid_template_areas": null,
      "grid_template_columns": null,
      "grid_template_rows": null,
      "height": null,
      "justify_content": null,
      "justify_items": null,
      "left": null,
      "margin": null,
      "max_height": null,
      "max_width": null,
      "min_height": null,
      "min_width": null,
      "object_fit": null,
      "object_position": null,
      "order": null,
      "overflow": null,
      "overflow_x": null,
      "overflow_y": null,
      "padding": null,
      "right": null,
      "top": null,
      "visibility": null,
      "width": null
     }
    },
    "646716604f5d4c408381da1db6fe5c76": {
     "model_module": "@jupyter-widgets/controls",
     "model_name": "DescriptionStyleModel",
     "state": {
      "_model_module": "@jupyter-widgets/controls",
      "_model_module_version": "1.5.0",
      "_model_name": "DescriptionStyleModel",
      "_view_count": null,
      "_view_module": "@jupyter-widgets/base",
      "_view_module_version": "1.2.0",
      "_view_name": "StyleView",
      "description_width": ""
     }
    },
    "67b58587ae6646a9bfaa2a58df4f0cf5": {
     "model_module": "@jupyter-widgets/controls",
     "model_name": "HTMLModel",
     "state": {
      "_dom_classes": [],
      "_model_module": "@jupyter-widgets/controls",
      "_model_module_version": "1.5.0",
      "_model_name": "HTMLModel",
      "_view_count": null,
      "_view_module": "@jupyter-widgets/controls",
      "_view_module_version": "1.5.0",
      "_view_name": "HTMLView",
      "description": "",
      "description_tooltip": null,
      "layout": "IPY_MODEL_d047eedd34ba4c5ca5413ebcbb42c2a6",
      "placeholder": "​",
      "style": "IPY_MODEL_b1bf3e80646b4e098669324cdc599cc7",
      "value": " 71/? [00:00&lt;00:00, 85.62it/s]"
     }
    },
    "7853cf5b3d1443649337828aa2a66ca1": {
     "model_module": "@jupyter-widgets/controls",
     "model_name": "HBoxModel",
     "state": {
      "_dom_classes": [],
      "_model_module": "@jupyter-widgets/controls",
      "_model_module_version": "1.5.0",
      "_model_name": "HBoxModel",
      "_view_count": null,
      "_view_module": "@jupyter-widgets/controls",
      "_view_module_version": "1.5.0",
      "_view_name": "HBoxView",
      "box_style": "",
      "children": [
       "IPY_MODEL_de06cb13c9a341cbad1b47de2a98f882",
       "IPY_MODEL_a5c822288cc34433a20c79e949a36f3b"
      ],
      "layout": "IPY_MODEL_c4a0e0e0fb014606895b0409a47bac8f"
     }
    },
    "87cc7eead7f047c497193c1c20a5b638": {
     "model_module": "@jupyter-widgets/base",
     "model_name": "LayoutModel",
     "state": {
      "_model_module": "@jupyter-widgets/base",
      "_model_module_version": "1.2.0",
      "_model_name": "LayoutModel",
      "_view_count": null,
      "_view_module": "@jupyter-widgets/base",
      "_view_module_version": "1.2.0",
      "_view_name": "LayoutView",
      "align_content": null,
      "align_items": null,
      "align_self": null,
      "border": null,
      "bottom": null,
      "display": null,
      "flex": null,
      "flex_flow": null,
      "grid_area": null,
      "grid_auto_columns": null,
      "grid_auto_flow": null,
      "grid_auto_rows": null,
      "grid_column": null,
      "grid_gap": null,
      "grid_row": null,
      "grid_template_areas": null,
      "grid_template_columns": null,
      "grid_template_rows": null,
      "height": null,
      "justify_content": null,
      "justify_items": null,
      "left": null,
      "margin": null,
      "max_height": null,
      "max_width": null,
      "min_height": null,
      "min_width": null,
      "object_fit": null,
      "object_position": null,
      "order": null,
      "overflow": null,
      "overflow_x": null,
      "overflow_y": null,
      "padding": null,
      "right": null,
      "top": null,
      "visibility": null,
      "width": null
     }
    },
    "8e0b7528b06f4a15b9cacffd66cb8573": {
     "model_module": "@jupyter-widgets/base",
     "model_name": "LayoutModel",
     "state": {
      "_model_module": "@jupyter-widgets/base",
      "_model_module_version": "1.2.0",
      "_model_name": "LayoutModel",
      "_view_count": null,
      "_view_module": "@jupyter-widgets/base",
      "_view_module_version": "1.2.0",
      "_view_name": "LayoutView",
      "align_content": null,
      "align_items": null,
      "align_self": null,
      "border": null,
      "bottom": null,
      "display": null,
      "flex": null,
      "flex_flow": null,
      "grid_area": null,
      "grid_auto_columns": null,
      "grid_auto_flow": null,
      "grid_auto_rows": null,
      "grid_column": null,
      "grid_gap": null,
      "grid_row": null,
      "grid_template_areas": null,
      "grid_template_columns": null,
      "grid_template_rows": null,
      "height": null,
      "justify_content": null,
      "justify_items": null,
      "left": null,
      "margin": null,
      "max_height": null,
      "max_width": null,
      "min_height": null,
      "min_width": null,
      "object_fit": null,
      "object_position": null,
      "order": null,
      "overflow": null,
      "overflow_x": null,
      "overflow_y": null,
      "padding": null,
      "right": null,
      "top": null,
      "visibility": null,
      "width": null
     }
    },
    "8eb154d7f31d411aa02e8cd13fdb094f": {
     "model_module": "@jupyter-widgets/controls",
     "model_name": "DescriptionStyleModel",
     "state": {
      "_model_module": "@jupyter-widgets/controls",
      "_model_module_version": "1.5.0",
      "_model_name": "DescriptionStyleModel",
      "_view_count": null,
      "_view_module": "@jupyter-widgets/base",
      "_view_module_version": "1.2.0",
      "_view_name": "StyleView",
      "description_width": ""
     }
    },
    "931b3f0229964d5bbaef215d99f60768": {
     "model_module": "@jupyter-widgets/base",
     "model_name": "LayoutModel",
     "state": {
      "_model_module": "@jupyter-widgets/base",
      "_model_module_version": "1.2.0",
      "_model_name": "LayoutModel",
      "_view_count": null,
      "_view_module": "@jupyter-widgets/base",
      "_view_module_version": "1.2.0",
      "_view_name": "LayoutView",
      "align_content": null,
      "align_items": null,
      "align_self": null,
      "border": null,
      "bottom": null,
      "display": null,
      "flex": null,
      "flex_flow": null,
      "grid_area": null,
      "grid_auto_columns": null,
      "grid_auto_flow": null,
      "grid_auto_rows": null,
      "grid_column": null,
      "grid_gap": null,
      "grid_row": null,
      "grid_template_areas": null,
      "grid_template_columns": null,
      "grid_template_rows": null,
      "height": null,
      "justify_content": null,
      "justify_items": null,
      "left": null,
      "margin": null,
      "max_height": null,
      "max_width": null,
      "min_height": null,
      "min_width": null,
      "object_fit": null,
      "object_position": null,
      "order": null,
      "overflow": null,
      "overflow_x": null,
      "overflow_y": null,
      "padding": null,
      "right": null,
      "top": null,
      "visibility": null,
      "width": null
     }
    },
    "96c0f0de92ac4c1cac8d5b8dace146a0": {
     "model_module": "@jupyter-widgets/base",
     "model_name": "LayoutModel",
     "state": {
      "_model_module": "@jupyter-widgets/base",
      "_model_module_version": "1.2.0",
      "_model_name": "LayoutModel",
      "_view_count": null,
      "_view_module": "@jupyter-widgets/base",
      "_view_module_version": "1.2.0",
      "_view_name": "LayoutView",
      "align_content": null,
      "align_items": null,
      "align_self": null,
      "border": null,
      "bottom": null,
      "display": null,
      "flex": null,
      "flex_flow": null,
      "grid_area": null,
      "grid_auto_columns": null,
      "grid_auto_flow": null,
      "grid_auto_rows": null,
      "grid_column": null,
      "grid_gap": null,
      "grid_row": null,
      "grid_template_areas": null,
      "grid_template_columns": null,
      "grid_template_rows": null,
      "height": null,
      "justify_content": null,
      "justify_items": null,
      "left": null,
      "margin": null,
      "max_height": null,
      "max_width": null,
      "min_height": null,
      "min_width": null,
      "object_fit": null,
      "object_position": null,
      "order": null,
      "overflow": null,
      "overflow_x": null,
      "overflow_y": null,
      "padding": null,
      "right": null,
      "top": null,
      "visibility": null,
      "width": null
     }
    },
    "a5c822288cc34433a20c79e949a36f3b": {
     "model_module": "@jupyter-widgets/controls",
     "model_name": "HTMLModel",
     "state": {
      "_dom_classes": [],
      "_model_module": "@jupyter-widgets/controls",
      "_model_module_version": "1.5.0",
      "_model_name": "HTMLModel",
      "_view_count": null,
      "_view_module": "@jupyter-widgets/controls",
      "_view_module_version": "1.5.0",
      "_view_name": "HTMLView",
      "description": "",
      "description_tooltip": null,
      "layout": "IPY_MODEL_30797fbf8a7d43fd9be40928a33d0f2c",
      "placeholder": "​",
      "style": "IPY_MODEL_646716604f5d4c408381da1db6fe5c76",
      "value": " 386/386 [00:00&lt;00:00, 592B/s]"
     }
    },
    "aa3e540dc35e44569ee5cdf24f228075": {
     "model_module": "@jupyter-widgets/base",
     "model_name": "LayoutModel",
     "state": {
      "_model_module": "@jupyter-widgets/base",
      "_model_module_version": "1.2.0",
      "_model_name": "LayoutModel",
      "_view_count": null,
      "_view_module": "@jupyter-widgets/base",
      "_view_module_version": "1.2.0",
      "_view_name": "LayoutView",
      "align_content": null,
      "align_items": null,
      "align_self": null,
      "border": null,
      "bottom": null,
      "display": null,
      "flex": null,
      "flex_flow": null,
      "grid_area": null,
      "grid_auto_columns": null,
      "grid_auto_flow": null,
      "grid_auto_rows": null,
      "grid_column": null,
      "grid_gap": null,
      "grid_row": null,
      "grid_template_areas": null,
      "grid_template_columns": null,
      "grid_template_rows": null,
      "height": null,
      "justify_content": null,
      "justify_items": null,
      "left": null,
      "margin": null,
      "max_height": null,
      "max_width": null,
      "min_height": null,
      "min_width": null,
      "object_fit": null,
      "object_position": null,
      "order": null,
      "overflow": null,
      "overflow_x": null,
      "overflow_y": null,
      "padding": null,
      "right": null,
      "top": null,
      "visibility": null,
      "width": null
     }
    },
    "af7550296f1a46378d7bfcc42a5659d5": {
     "model_module": "@jupyter-widgets/controls",
     "model_name": "ProgressStyleModel",
     "state": {
      "_model_module": "@jupyter-widgets/controls",
      "_model_module_version": "1.5.0",
      "_model_name": "ProgressStyleModel",
      "_view_count": null,
      "_view_module": "@jupyter-widgets/base",
      "_view_module_version": "1.2.0",
      "_view_name": "StyleView",
      "bar_color": null,
      "description_width": "initial"
     }
    },
    "b1bf3e80646b4e098669324cdc599cc7": {
     "model_module": "@jupyter-widgets/controls",
     "model_name": "DescriptionStyleModel",
     "state": {
      "_model_module": "@jupyter-widgets/controls",
      "_model_module_version": "1.5.0",
      "_model_name": "DescriptionStyleModel",
      "_view_count": null,
      "_view_module": "@jupyter-widgets/base",
      "_view_module_version": "1.2.0",
      "_view_name": "StyleView",
      "description_width": ""
     }
    },
    "bc9fafb6811d42508d48dce26e5b2da9": {
     "model_module": "@jupyter-widgets/controls",
     "model_name": "HTMLModel",
     "state": {
      "_dom_classes": [],
      "_model_module": "@jupyter-widgets/controls",
      "_model_module_version": "1.5.0",
      "_model_name": "HTMLModel",
      "_view_count": null,
      "_view_module": "@jupyter-widgets/controls",
      "_view_module_version": "1.5.0",
      "_view_name": "HTMLView",
      "description": "",
      "description_tooltip": null,
      "layout": "IPY_MODEL_e676a470c70a4b99af7db9448d0bf5a7",
      "placeholder": "​",
      "style": "IPY_MODEL_8eb154d7f31d411aa02e8cd13fdb094f",
      "value": " 18658/? [03:10&lt;00:00, 97.74it/s]"
     }
    },
    "c4a0e0e0fb014606895b0409a47bac8f": {
     "model_module": "@jupyter-widgets/base",
     "model_name": "LayoutModel",
     "state": {
      "_model_module": "@jupyter-widgets/base",
      "_model_module_version": "1.2.0",
      "_model_name": "LayoutModel",
      "_view_count": null,
      "_view_module": "@jupyter-widgets/base",
      "_view_module_version": "1.2.0",
      "_view_name": "LayoutView",
      "align_content": null,
      "align_items": null,
      "align_self": null,
      "border": null,
      "bottom": null,
      "display": null,
      "flex": null,
      "flex_flow": null,
      "grid_area": null,
      "grid_auto_columns": null,
      "grid_auto_flow": null,
      "grid_auto_rows": null,
      "grid_column": null,
      "grid_gap": null,
      "grid_row": null,
      "grid_template_areas": null,
      "grid_template_columns": null,
      "grid_template_rows": null,
      "height": null,
      "justify_content": null,
      "justify_items": null,
      "left": null,
      "margin": null,
      "max_height": null,
      "max_width": null,
      "min_height": null,
      "min_width": null,
      "object_fit": null,
      "object_position": null,
      "order": null,
      "overflow": null,
      "overflow_x": null,
      "overflow_y": null,
      "padding": null,
      "right": null,
      "top": null,
      "visibility": null,
      "width": null
     }
    },
    "c74a8ba5e05447cb9aa60694d73b0e84": {
     "model_module": "@jupyter-widgets/controls",
     "model_name": "FloatProgressModel",
     "state": {
      "_dom_classes": [],
      "_model_module": "@jupyter-widgets/controls",
      "_model_module_version": "1.5.0",
      "_model_name": "FloatProgressModel",
      "_view_count": null,
      "_view_module": "@jupyter-widgets/controls",
      "_view_module_version": "1.5.0",
      "_view_name": "ProgressView",
      "bar_style": "success",
      "description": "",
      "description_tooltip": null,
      "layout": "IPY_MODEL_eefefbbe7bfd4e67a0f6fd0e348f27bb",
      "max": 1,
      "min": 0,
      "orientation": "horizontal",
      "style": "IPY_MODEL_3222ec54bbb8473096832c8cb8722c2b",
      "value": 1
     }
    },
    "d047eedd34ba4c5ca5413ebcbb42c2a6": {
     "model_module": "@jupyter-widgets/base",
     "model_name": "LayoutModel",
     "state": {
      "_model_module": "@jupyter-widgets/base",
      "_model_module_version": "1.2.0",
      "_model_name": "LayoutModel",
      "_view_count": null,
      "_view_module": "@jupyter-widgets/base",
      "_view_module_version": "1.2.0",
      "_view_name": "LayoutView",
      "align_content": null,
      "align_items": null,
      "align_self": null,
      "border": null,
      "bottom": null,
      "display": null,
      "flex": null,
      "flex_flow": null,
      "grid_area": null,
      "grid_auto_columns": null,
      "grid_auto_flow": null,
      "grid_auto_rows": null,
      "grid_column": null,
      "grid_gap": null,
      "grid_row": null,
      "grid_template_areas": null,
      "grid_template_columns": null,
      "grid_template_rows": null,
      "height": null,
      "justify_content": null,
      "justify_items": null,
      "left": null,
      "margin": null,
      "max_height": null,
      "max_width": null,
      "min_height": null,
      "min_width": null,
      "object_fit": null,
      "object_position": null,
      "order": null,
      "overflow": null,
      "overflow_x": null,
      "overflow_y": null,
      "padding": null,
      "right": null,
      "top": null,
      "visibility": null,
      "width": null
     }
    },
    "d2b1dcff52654b6f8ad7b4622ba162e6": {
     "model_module": "@jupyter-widgets/base",
     "model_name": "LayoutModel",
     "state": {
      "_model_module": "@jupyter-widgets/base",
      "_model_module_version": "1.2.0",
      "_model_name": "LayoutModel",
      "_view_count": null,
      "_view_module": "@jupyter-widgets/base",
      "_view_module_version": "1.2.0",
      "_view_name": "LayoutView",
      "align_content": null,
      "align_items": null,
      "align_self": null,
      "border": null,
      "bottom": null,
      "display": null,
      "flex": null,
      "flex_flow": null,
      "grid_area": null,
      "grid_auto_columns": null,
      "grid_auto_flow": null,
      "grid_auto_rows": null,
      "grid_column": null,
      "grid_gap": null,
      "grid_row": null,
      "grid_template_areas": null,
      "grid_template_columns": null,
      "grid_template_rows": null,
      "height": null,
      "justify_content": null,
      "justify_items": null,
      "left": null,
      "margin": null,
      "max_height": null,
      "max_width": null,
      "min_height": null,
      "min_width": null,
      "object_fit": null,
      "object_position": null,
      "order": null,
      "overflow": null,
      "overflow_x": null,
      "overflow_y": null,
      "padding": null,
      "right": null,
      "top": null,
      "visibility": null,
      "width": null
     }
    },
    "d2dfaf7eea18440e9f2d7483ed66153e": {
     "model_module": "@jupyter-widgets/controls",
     "model_name": "FloatProgressModel",
     "state": {
      "_dom_classes": [],
      "_model_module": "@jupyter-widgets/controls",
      "_model_module_version": "1.5.0",
      "_model_name": "FloatProgressModel",
      "_view_count": null,
      "_view_module": "@jupyter-widgets/controls",
      "_view_module_version": "1.5.0",
      "_view_name": "ProgressView",
      "bar_style": "success",
      "description": "",
      "description_tooltip": null,
      "layout": "IPY_MODEL_d2b1dcff52654b6f8ad7b4622ba162e6",
      "max": 1,
      "min": 0,
      "orientation": "horizontal",
      "style": "IPY_MODEL_af7550296f1a46378d7bfcc42a5659d5",
      "value": 1
     }
    },
    "db26997a41ec46c38885c23a89bd0561": {
     "model_module": "@jupyter-widgets/base",
     "model_name": "LayoutModel",
     "state": {
      "_model_module": "@jupyter-widgets/base",
      "_model_module_version": "1.2.0",
      "_model_name": "LayoutModel",
      "_view_count": null,
      "_view_module": "@jupyter-widgets/base",
      "_view_module_version": "1.2.0",
      "_view_name": "LayoutView",
      "align_content": null,
      "align_items": null,
      "align_self": null,
      "border": null,
      "bottom": null,
      "display": null,
      "flex": null,
      "flex_flow": null,
      "grid_area": null,
      "grid_auto_columns": null,
      "grid_auto_flow": null,
      "grid_auto_rows": null,
      "grid_column": null,
      "grid_gap": null,
      "grid_row": null,
      "grid_template_areas": null,
      "grid_template_columns": null,
      "grid_template_rows": null,
      "height": null,
      "justify_content": null,
      "justify_items": null,
      "left": null,
      "margin": null,
      "max_height": null,
      "max_width": null,
      "min_height": null,
      "min_width": null,
      "object_fit": null,
      "object_position": null,
      "order": null,
      "overflow": null,
      "overflow_x": null,
      "overflow_y": null,
      "padding": null,
      "right": null,
      "top": null,
      "visibility": null,
      "width": null
     }
    },
    "dd1109a40fc7459cb9d16fcd0e7f63f9": {
     "model_module": "@jupyter-widgets/controls",
     "model_name": "FloatProgressModel",
     "state": {
      "_dom_classes": [],
      "_model_module": "@jupyter-widgets/controls",
      "_model_module_version": "1.5.0",
      "_model_name": "FloatProgressModel",
      "_view_count": null,
      "_view_module": "@jupyter-widgets/controls",
      "_view_module_version": "1.5.0",
      "_view_name": "ProgressView",
      "bar_style": "success",
      "description": "Downloading: 100%",
      "description_tooltip": null,
      "layout": "IPY_MODEL_8e0b7528b06f4a15b9cacffd66cb8573",
      "max": 740314769,
      "min": 0,
      "orientation": "horizontal",
      "style": "IPY_MODEL_fc7a99fc2162421786b7e49d62b37ff2",
      "value": 740314769
     }
    },
    "de06cb13c9a341cbad1b47de2a98f882": {
     "model_module": "@jupyter-widgets/controls",
     "model_name": "FloatProgressModel",
     "state": {
      "_dom_classes": [],
      "_model_module": "@jupyter-widgets/controls",
      "_model_module_version": "1.5.0",
      "_model_name": "FloatProgressModel",
      "_view_count": null,
      "_view_module": "@jupyter-widgets/controls",
      "_view_module_version": "1.5.0",
      "_view_name": "ProgressView",
      "bar_style": "success",
      "description": "Downloading: 100%",
      "description_tooltip": null,
      "layout": "IPY_MODEL_626cf90a5b3240118542e55f91d8052e",
      "max": 386,
      "min": 0,
      "orientation": "horizontal",
      "style": "IPY_MODEL_47f2297b06584655bdc19719c775fda7",
      "value": 386
     }
    },
    "ded7408f6ffb42018bbda10dcc549f8e": {
     "model_module": "@jupyter-widgets/controls",
     "model_name": "FloatProgressModel",
     "state": {
      "_dom_classes": [],
      "_model_module": "@jupyter-widgets/controls",
      "_model_module_version": "1.5.0",
      "_model_name": "FloatProgressModel",
      "_view_count": null,
      "_view_module": "@jupyter-widgets/controls",
      "_view_module_version": "1.5.0",
      "_view_name": "ProgressView",
      "bar_style": "success",
      "description": "Downloading: 100%",
      "description_tooltip": null,
      "layout": "IPY_MODEL_931b3f0229964d5bbaef215d99f60768",
      "max": 59,
      "min": 0,
      "orientation": "horizontal",
      "style": "IPY_MODEL_fad4ce1f01894e929056172c11a09651",
      "value": 59
     }
    },
    "e1c5fbf65bb94d668cd3030451cb3fef": {
     "model_module": "@jupyter-widgets/controls",
     "model_name": "HBoxModel",
     "state": {
      "_dom_classes": [],
      "_model_module": "@jupyter-widgets/controls",
      "_model_module_version": "1.5.0",
      "_model_name": "HBoxModel",
      "_view_count": null,
      "_view_module": "@jupyter-widgets/controls",
      "_view_module_version": "1.5.0",
      "_view_name": "HBoxView",
      "box_style": "",
      "children": [
       "IPY_MODEL_3f1325e11c404cec8cee5157572987e7",
       "IPY_MODEL_594e444fb5c149b1bd17c773adc06514"
      ],
      "layout": "IPY_MODEL_31b8c90d8c88483a91dc2597ecfa7c96"
     }
    },
    "e676a470c70a4b99af7db9448d0bf5a7": {
     "model_module": "@jupyter-widgets/base",
     "model_name": "LayoutModel",
     "state": {
      "_model_module": "@jupyter-widgets/base",
      "_model_module_version": "1.2.0",
      "_model_name": "LayoutModel",
      "_view_count": null,
      "_view_module": "@jupyter-widgets/base",
      "_view_module_version": "1.2.0",
      "_view_name": "LayoutView",
      "align_content": null,
      "align_items": null,
      "align_self": null,
      "border": null,
      "bottom": null,
      "display": null,
      "flex": null,
      "flex_flow": null,
      "grid_area": null,
      "grid_auto_columns": null,
      "grid_auto_flow": null,
      "grid_auto_rows": null,
      "grid_column": null,
      "grid_gap": null,
      "grid_row": null,
      "grid_template_areas": null,
      "grid_template_columns": null,
      "grid_template_rows": null,
      "height": null,
      "justify_content": null,
      "justify_items": null,
      "left": null,
      "margin": null,
      "max_height": null,
      "max_width": null,
      "min_height": null,
      "min_width": null,
      "object_fit": null,
      "object_position": null,
      "order": null,
      "overflow": null,
      "overflow_x": null,
      "overflow_y": null,
      "padding": null,
      "right": null,
      "top": null,
      "visibility": null,
      "width": null
     }
    },
    "eefefbbe7bfd4e67a0f6fd0e348f27bb": {
     "model_module": "@jupyter-widgets/base",
     "model_name": "LayoutModel",
     "state": {
      "_model_module": "@jupyter-widgets/base",
      "_model_module_version": "1.2.0",
      "_model_name": "LayoutModel",
      "_view_count": null,
      "_view_module": "@jupyter-widgets/base",
      "_view_module_version": "1.2.0",
      "_view_name": "LayoutView",
      "align_content": null,
      "align_items": null,
      "align_self": null,
      "border": null,
      "bottom": null,
      "display": null,
      "flex": null,
      "flex_flow": null,
      "grid_area": null,
      "grid_auto_columns": null,
      "grid_auto_flow": null,
      "grid_auto_rows": null,
      "grid_column": null,
      "grid_gap": null,
      "grid_row": null,
      "grid_template_areas": null,
      "grid_template_columns": null,
      "grid_template_rows": null,
      "height": null,
      "justify_content": null,
      "justify_items": null,
      "left": null,
      "margin": null,
      "max_height": null,
      "max_width": null,
      "min_height": null,
      "min_width": null,
      "object_fit": null,
      "object_position": null,
      "order": null,
      "overflow": null,
      "overflow_x": null,
      "overflow_y": null,
      "padding": null,
      "right": null,
      "top": null,
      "visibility": null,
      "width": null
     }
    },
    "fad4ce1f01894e929056172c11a09651": {
     "model_module": "@jupyter-widgets/controls",
     "model_name": "ProgressStyleModel",
     "state": {
      "_model_module": "@jupyter-widgets/controls",
      "_model_module_version": "1.5.0",
      "_model_name": "ProgressStyleModel",
      "_view_count": null,
      "_view_module": "@jupyter-widgets/base",
      "_view_module_version": "1.2.0",
      "_view_name": "StyleView",
      "bar_color": null,
      "description_width": "initial"
     }
    },
    "fb7771dd26ed4db2ae46584f2b806f40": {
     "model_module": "@jupyter-widgets/controls",
     "model_name": "DescriptionStyleModel",
     "state": {
      "_model_module": "@jupyter-widgets/controls",
      "_model_module_version": "1.5.0",
      "_model_name": "DescriptionStyleModel",
      "_view_count": null,
      "_view_module": "@jupyter-widgets/base",
      "_view_module_version": "1.2.0",
      "_view_name": "StyleView",
      "description_width": ""
     }
    },
    "fc7a99fc2162421786b7e49d62b37ff2": {
     "model_module": "@jupyter-widgets/controls",
     "model_name": "ProgressStyleModel",
     "state": {
      "_model_module": "@jupyter-widgets/controls",
      "_model_module_version": "1.5.0",
      "_model_name": "ProgressStyleModel",
      "_view_count": null,
      "_view_module": "@jupyter-widgets/base",
      "_view_module_version": "1.2.0",
      "_view_name": "StyleView",
      "bar_color": null,
      "description_width": "initial"
     }
    }
   }
  }
 },
 "nbformat": 4,
 "nbformat_minor": 1
}
