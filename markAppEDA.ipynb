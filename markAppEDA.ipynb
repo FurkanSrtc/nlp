{
 "cells": [
  {
   "cell_type": "code",
<<<<<<< HEAD
   "execution_count": 1,
=======
   "execution_count": 18,
>>>>>>> c8027e9c3ca658761f929255ea37bca691110696
   "metadata": {},
   "outputs": [],
   "source": [
    "import pandas as pd \n",
    "import warnings\n"
   ]
  },
  {
   "cell_type": "code",
   "execution_count": 20,
   "metadata": {},
   "outputs": [],
   "source": [
    "warnings.filterwarnings('ignore')\n",
    "\n",
    "migros_products_1 = pd.read_csv(\"data/Migros/products1Yeni.csv\", sep=\";\", encoding = \"utf-8\")"
   ]
  },
  {
   "cell_type": "markdown",
   "metadata": {},
   "source": [
    "## Burda pathları ekledik"
   ]
  },
  {
   "cell_type": "code",
   "execution_count": 2,
   "metadata": {},
   "outputs": [],
   "source": []
  },
  {
   "cell_type": "markdown",
   "metadata": {},
   "source": [
    "## Classification"
   ]
  },
  {
   "cell_type": "markdown",
   "metadata": {},
   "source": [
    "### Imbalanced Data\n"
   ]
  },
  {
   "cell_type": "code",
   "execution_count": 3,
   "metadata": {},
   "outputs": [],
   "source": [
    "def create_model(X, y):\n",
    "    X_train, X_test, y_train, y_test =  train_test_split(X, y, test_size=0.20, random_state=111, stratify = y)\n",
    "    \n",
    "    logreg_model = LogisticRegression(C= 1, penalty= 'l2')\n",
    "    logreg_model.fit(X_train, y_train)\n",
    "\n",
    "    pred_train = logreg_model.predict(X_train)\n",
    "    pred_test = logreg_model.predict(X_test)\n",
    "    \n",
    "    accuracy=logreg_model.score(X_test, y_test)\n",
    "    print(\"Accuracy : {}\\n\".format(accuracy))\n",
    "    \n",
    "    print(\"Train Dataset\")\n",
    "    print(classification_report(y_train, pred_train))\n",
    "    \n",
    "    print(\"Test Dataset\")\n",
    "    print(classification_report(y_test, pred_test))\n",
    "    \n",
    "    roc=roc_auc_score(y_test, logreg_model.predict_proba(X_test)[:,1])\n",
    "    print(\"Accuracy : {}\\n\".format(accuracy))\n",
    "    print(\"Roc Value : {}\".format(roc))\n",
    "    \n",
    "    return  roc,accuracy"
   ]
  },
  {
   "cell_type": "markdown",
   "metadata": {},
   "source": [
    "### ADASYN"
   ]
  },
  {
   "cell_type": "code",
   "execution_count": 4,
   "metadata": {},
   "outputs": [
    {
     "ename": "NameError",
     "evalue": "name 'df' is not defined",
     "output_type": "error",
     "traceback": [
      "\u001b[1;31m---------------------------------------------------------------------------\u001b[0m",
      "\u001b[1;31mNameError\u001b[0m                                 Traceback (most recent call last)",
      "\u001b[1;32m<ipython-input-4-2d3608479f4d>\u001b[0m in \u001b[0;36m<module>\u001b[1;34m\u001b[0m\n\u001b[0;32m      1\u001b[0m \u001b[1;32mfrom\u001b[0m \u001b[0mimblearn\u001b[0m\u001b[1;33m.\u001b[0m\u001b[0mover_sampling\u001b[0m \u001b[1;32mimport\u001b[0m \u001b[0mADASYN\u001b[0m\u001b[1;33m\u001b[0m\u001b[1;33m\u001b[0m\u001b[0m\n\u001b[0;32m      2\u001b[0m \u001b[1;33m\u001b[0m\u001b[0m\n\u001b[1;32m----> 3\u001b[1;33m \u001b[0my\u001b[0m \u001b[1;33m=\u001b[0m \u001b[0mdf\u001b[0m\u001b[1;33m[\u001b[0m\u001b[1;34m'No-show'\u001b[0m\u001b[1;33m]\u001b[0m\u001b[1;33m\u001b[0m\u001b[1;33m\u001b[0m\u001b[0m\n\u001b[0m\u001b[0;32m      4\u001b[0m \u001b[0mX\u001b[0m \u001b[1;33m=\u001b[0m \u001b[0mdf\u001b[0m\u001b[1;33m.\u001b[0m\u001b[0mdrop\u001b[0m\u001b[1;33m(\u001b[0m\u001b[1;33m[\u001b[0m\u001b[1;34m'No-show'\u001b[0m\u001b[1;33m,\u001b[0m\u001b[1;34m'PatientId'\u001b[0m\u001b[1;33m,\u001b[0m\u001b[1;34m\"PatientId\"\u001b[0m\u001b[1;33m,\u001b[0m\u001b[1;34m\"Neighbourhood\"\u001b[0m\u001b[1;33m,\u001b[0m\u001b[1;34m\"AppointmentID\"\u001b[0m\u001b[1;33m,\u001b[0m\u001b[1;34m\"AppointmentDay\"\u001b[0m\u001b[1;33m,\u001b[0m\u001b[1;34m\"ScheduledDay\"\u001b[0m\u001b[1;33m]\u001b[0m\u001b[1;33m,\u001b[0m\u001b[0maxis\u001b[0m\u001b[1;33m=\u001b[0m\u001b[1;36m1\u001b[0m\u001b[1;33m)\u001b[0m\u001b[1;33m\u001b[0m\u001b[1;33m\u001b[0m\u001b[0m\n\u001b[0;32m      5\u001b[0m \u001b[0mX_train\u001b[0m\u001b[1;33m,\u001b[0m \u001b[0mX_test\u001b[0m\u001b[1;33m,\u001b[0m \u001b[0my_train\u001b[0m\u001b[1;33m,\u001b[0m \u001b[0my_test\u001b[0m \u001b[1;33m=\u001b[0m  \u001b[0mtrain_test_split\u001b[0m\u001b[1;33m(\u001b[0m\u001b[0mX\u001b[0m\u001b[1;33m,\u001b[0m \u001b[0my\u001b[0m\u001b[1;33m,\u001b[0m \u001b[0mtest_size\u001b[0m\u001b[1;33m=\u001b[0m\u001b[1;36m0.20\u001b[0m\u001b[1;33m,\u001b[0m \u001b[0mrandom_state\u001b[0m\u001b[1;33m=\u001b[0m\u001b[1;36m111\u001b[0m\u001b[1;33m,\u001b[0m\u001b[0mstratify\u001b[0m\u001b[1;33m=\u001b[0m\u001b[0my\u001b[0m\u001b[1;33m)\u001b[0m\u001b[1;33m\u001b[0m\u001b[1;33m\u001b[0m\u001b[0m\n",
      "\u001b[1;31mNameError\u001b[0m: name 'df' is not defined"
     ]
    }
   ],
   "source": [
    "from imblearn.over_sampling import ADASYN\n",
    "\n",
    "y = df['No-show']\n",
    "X = df.drop(['No-show','PatientId',\"PatientId\",\"Neighbourhood\",\"AppointmentID\",\"AppointmentDay\",\"ScheduledDay\"],axis=1)\n",
    "X_train, X_test, y_train, y_test =  train_test_split(X, y, test_size=0.20, random_state=111,stratify=y)\n",
    "\n",
    "ad = ADASYN()\n",
    "X_adasyn, y_adasyn = ad.fit_sample(X, y)\n",
    "adas=create_model(X_adasyn, y_adasyn)"
   ]
  },
  {
   "cell_type": "markdown",
   "metadata": {},
   "source": [
<<<<<<< HEAD
    "migros_paths = [\"products1Yeni.csv\"]"
=======
    "### SMOTE"
>>>>>>> c8027e9c3ca658761f929255ea37bca691110696
   ]
  },
  {
   "cell_type": "code",
   "execution_count": 5,
   "metadata": {},
<<<<<<< HEAD
   "outputs": [],
   "source": [
    "migros_products_1 = pd.read_csv(\"data/Migros/products1Yeni.csv\", sep=\";\", encoding = \"utf-8\")"
=======
   "outputs": [
    {
     "ename": "NameError",
     "evalue": "name 'df' is not defined",
     "output_type": "error",
     "traceback": [
      "\u001b[1;31m---------------------------------------------------------------------------\u001b[0m",
      "\u001b[1;31mNameError\u001b[0m                                 Traceback (most recent call last)",
      "\u001b[1;32m<ipython-input-5-5c459366616c>\u001b[0m in \u001b[0;36m<module>\u001b[1;34m\u001b[0m\n\u001b[0;32m      1\u001b[0m \u001b[1;32mfrom\u001b[0m \u001b[0mimblearn\u001b[0m\u001b[1;33m.\u001b[0m\u001b[0mover_sampling\u001b[0m \u001b[1;32mimport\u001b[0m \u001b[0mSMOTE\u001b[0m\u001b[1;33m\u001b[0m\u001b[1;33m\u001b[0m\u001b[0m\n\u001b[1;32m----> 2\u001b[1;33m \u001b[0my\u001b[0m \u001b[1;33m=\u001b[0m \u001b[0mdf\u001b[0m\u001b[1;33m[\u001b[0m\u001b[1;34m'No-show'\u001b[0m\u001b[1;33m]\u001b[0m\u001b[1;33m\u001b[0m\u001b[1;33m\u001b[0m\u001b[0m\n\u001b[0m\u001b[0;32m      3\u001b[0m \u001b[0mX\u001b[0m \u001b[1;33m=\u001b[0m \u001b[0mdf\u001b[0m\u001b[1;33m.\u001b[0m\u001b[0mdrop\u001b[0m\u001b[1;33m(\u001b[0m\u001b[1;33m[\u001b[0m\u001b[1;34m'No-show'\u001b[0m\u001b[1;33m,\u001b[0m\u001b[1;34m'PatientId'\u001b[0m\u001b[1;33m,\u001b[0m\u001b[1;34m\"PatientId\"\u001b[0m\u001b[1;33m,\u001b[0m\u001b[1;34m\"Neighbourhood\"\u001b[0m\u001b[1;33m,\u001b[0m\u001b[1;34m\"AppointmentID\"\u001b[0m\u001b[1;33m,\u001b[0m\u001b[1;34m\"AppointmentDay\"\u001b[0m\u001b[1;33m,\u001b[0m\u001b[1;34m\"ScheduledDay\"\u001b[0m\u001b[1;33m]\u001b[0m\u001b[1;33m,\u001b[0m\u001b[0maxis\u001b[0m\u001b[1;33m=\u001b[0m\u001b[1;36m1\u001b[0m\u001b[1;33m)\u001b[0m\u001b[1;33m\u001b[0m\u001b[1;33m\u001b[0m\u001b[0m\n\u001b[0;32m      4\u001b[0m \u001b[0mX_train\u001b[0m\u001b[1;33m,\u001b[0m \u001b[0mX_test\u001b[0m\u001b[1;33m,\u001b[0m \u001b[0my_train\u001b[0m\u001b[1;33m,\u001b[0m \u001b[0my_test\u001b[0m \u001b[1;33m=\u001b[0m  \u001b[0mtrain_test_split\u001b[0m\u001b[1;33m(\u001b[0m\u001b[0mX\u001b[0m\u001b[1;33m,\u001b[0m \u001b[0my\u001b[0m\u001b[1;33m,\u001b[0m \u001b[0mtest_size\u001b[0m\u001b[1;33m=\u001b[0m\u001b[1;36m0.20\u001b[0m\u001b[1;33m,\u001b[0m \u001b[0mrandom_state\u001b[0m\u001b[1;33m=\u001b[0m\u001b[1;36m111\u001b[0m\u001b[1;33m,\u001b[0m\u001b[0mstratify\u001b[0m\u001b[1;33m=\u001b[0m\u001b[0my\u001b[0m\u001b[1;33m)\u001b[0m\u001b[1;33m\u001b[0m\u001b[1;33m\u001b[0m\u001b[0m\n\u001b[0;32m      5\u001b[0m \u001b[1;33m\u001b[0m\u001b[0m\n",
      "\u001b[1;31mNameError\u001b[0m: name 'df' is not defined"
     ]
    }
   ],
   "source": [
    "from imblearn.over_sampling import SMOTE\n",
    "y = df['No-show']\n",
    "X = df.drop(['No-show','PatientId',\"PatientId\",\"Neighbourhood\",\"AppointmentID\",\"AppointmentDay\",\"ScheduledDay\"],axis=1)\n",
    "X_train, X_test, y_train, y_test =  train_test_split(X, y, test_size=0.20, random_state=111,stratify=y)\n",
    "\n",
    "sm = SMOTE(random_state=27, sampling_strategy=1.0)\n",
    "X_smote, y_smote = sm.fit_sample(X, y)\n",
    "smote=create_model(X_smote, y_smote)"
>>>>>>> c8027e9c3ca658761f929255ea37bca691110696
   ]
  },
  {
   "cell_type": "code",
   "execution_count": 6,
   "metadata": {},
   "outputs": [
    {
<<<<<<< HEAD
     "data": {
      "text/html": [
       "<div>\n",
       "<style scoped>\n",
       "    .dataframe tbody tr th:only-of-type {\n",
       "        vertical-align: middle;\n",
       "    }\n",
       "\n",
       "    .dataframe tbody tr th {\n",
       "        vertical-align: top;\n",
       "    }\n",
       "\n",
       "    .dataframe thead th {\n",
       "        text-align: right;\n",
       "    }\n",
       "</style>\n",
       "<table border=\"1\" class=\"dataframe\">\n",
       "  <thead>\n",
       "    <tr style=\"text-align: right;\">\n",
       "      <th></th>\n",
       "      <th>uMarka</th>\n",
       "      <th>urunKategorileri</th>\n",
       "      <th>urunKategorileriTwo</th>\n",
       "      <th>urunKategorileriThree</th>\n",
       "      <th>urunKategorileriFour</th>\n",
       "      <th>urunKategorileriFive</th>\n",
       "      <th>urunKategorileriSix</th>\n",
       "      <th>urunKategorileriSeven</th>\n",
       "      <th>urunAdi</th>\n",
       "      <th>urunAciklama</th>\n",
       "      <th>urunFoto</th>\n",
       "      <th>urunURL</th>\n",
       "    </tr>\n",
       "  </thead>\n",
       "  <tbody>\n",
       "    <tr>\n",
       "      <th>0</th>\n",
       "      <td>M&amp;M's</td>\n",
       "      <td>Gıda, Şekerleme</td>\n",
       "      <td>Atıştırmalık</td>\n",
       "      <td>Çikolata</td>\n",
       "      <td>Draje Çikolata</td>\n",
       "      <td>M&amp;M's</td>\n",
       "      <td>NaN</td>\n",
       "      <td>NaN</td>\n",
       "      <td>M&amp;M's Çikolatalı Draje 100 G - Migros</td>\n",
       "      <td>&amp;lt;p&amp;gt;&amp;lt;strong&amp;gt;M&amp;;amp;M';s Çikolatalı ...</td>\n",
       "      <td>https://migros-dali-storage-prod.global.ssl.fa...</td>\n",
       "      <td>https://www.migros.com.tr/mms-cikolatali-draje...</td>\n",
       "    </tr>\n",
       "    <tr>\n",
       "      <th>1</th>\n",
       "      <td>M&amp;M's</td>\n",
       "      <td>Gıda, Şekerleme</td>\n",
       "      <td>Atıştırmalık</td>\n",
       "      <td>Çikolata</td>\n",
       "      <td>Draje Çikolata</td>\n",
       "      <td>M&amp;M's</td>\n",
       "      <td>NaN</td>\n",
       "      <td>NaN</td>\n",
       "      <td>M&amp;M's Çikolatalı Draje 45 G - Migros</td>\n",
       "      <td>&amp;lt;p&amp;gt;&amp;lt;strong&amp;gt;M&amp;;amp;M';s Çikolatalı ...</td>\n",
       "      <td>https://migros-dali-storage-prod.global.ssl.fa...</td>\n",
       "      <td>https://www.migros.com.tr/mms-cikolatali-draje...</td>\n",
       "    </tr>\n",
       "    <tr>\n",
       "      <th>2</th>\n",
       "      <td>M&amp;M's</td>\n",
       "      <td>Gıda, Şekerleme</td>\n",
       "      <td>Atıştırmalık</td>\n",
       "      <td>Çikolata</td>\n",
       "      <td>Draje Çikolata</td>\n",
       "      <td>M&amp;M's</td>\n",
       "      <td>NaN</td>\n",
       "      <td>NaN</td>\n",
       "      <td>M&amp;M's Fıstıklı Draje 45 G - Migros</td>\n",
       "      <td>&amp;lt;p&amp;gt;&amp;lt;strong&amp;gt;M&amp;;amp;M';s Fıstıklı Dr...</td>\n",
       "      <td>https://migros-dali-storage-prod.global.ssl.fa...</td>\n",
       "      <td>https://www.migros.com.tr/mms-fistikli-draje-4...</td>\n",
       "    </tr>\n",
       "    <tr>\n",
       "      <th>3</th>\n",
       "      <td>M&amp;M's</td>\n",
       "      <td>Gıda, Şekerleme</td>\n",
       "      <td>Atıştırmalık</td>\n",
       "      <td>Çikolata</td>\n",
       "      <td>Draje Çikolata</td>\n",
       "      <td>M&amp;M's</td>\n",
       "      <td>NaN</td>\n",
       "      <td>NaN</td>\n",
       "      <td>M&amp;M's Pirinç Patlaklı Draje 36 G - Migros</td>\n",
       "      <td>&amp;lt;p&amp;gt;&amp;lt;strong&amp;gt;M&amp;;amp;M';s Pirinç Patl...</td>\n",
       "      <td>https://migros-dali-storage-prod.global.ssl.fa...</td>\n",
       "      <td>https://www.migros.com.tr/mms-pirinc-patlakli-...</td>\n",
       "    </tr>\n",
       "    <tr>\n",
       "      <th>4</th>\n",
       "      <td>Veg&amp;Bones</td>\n",
       "      <td>Gıda, Şekerleme</td>\n",
       "      <td>Çorba ve Bulyonlar</td>\n",
       "      <td>Bulyon</td>\n",
       "      <td>NaN</td>\n",
       "      <td>NaN</td>\n",
       "      <td>NaN</td>\n",
       "      <td>NaN</td>\n",
       "      <td>Veg&amp;Bones Bones Paça + İlikli Kemik Suyu 480 M...</td>\n",
       "      <td>&amp;lt;p&amp;gt;&amp;lt;strong&amp;gt;İşletme Kayıt No&amp;lt;/st...</td>\n",
       "      <td>https://migros-dali-storage-prod.global.ssl.fa...</td>\n",
       "      <td>https://www.migros.com.tr/vegbones-paca-ilikli...</td>\n",
       "    </tr>\n",
       "    <tr>\n",
       "      <th>...</th>\n",
       "      <td>...</td>\n",
       "      <td>...</td>\n",
       "      <td>...</td>\n",
       "      <td>...</td>\n",
       "      <td>...</td>\n",
       "      <td>...</td>\n",
       "      <td>...</td>\n",
       "      <td>...</td>\n",
       "      <td>...</td>\n",
       "      <td>...</td>\n",
       "      <td>...</td>\n",
       "      <td>...</td>\n",
       "    </tr>\n",
       "    <tr>\n",
       "      <th>4995</th>\n",
       "      <td>Torku</td>\n",
       "      <td>İçecek</td>\n",
       "      <td>Gazsız İçecek</td>\n",
       "      <td>Ayran</td>\n",
       "      <td>NaN</td>\n",
       "      <td>NaN</td>\n",
       "      <td>NaN</td>\n",
       "      <td>NaN</td>\n",
       "      <td>Torku Ayran 300 Ml - Migros</td>\n",
       "      <td>&amp;lt;b&amp;gt;Torku Ayran&amp;lt;/b&amp;gt;, doğal yoğurtta...</td>\n",
       "      <td>https://migros-dali-storage-prod.global.ssl.fa...</td>\n",
       "      <td>https://www.migros.com.tr/torku-ayran-300-ml-p...</td>\n",
       "    </tr>\n",
       "    <tr>\n",
       "      <th>4996</th>\n",
       "      <td>Eker</td>\n",
       "      <td>İçecek</td>\n",
       "      <td>Gazsız İçecek</td>\n",
       "      <td>Ayran</td>\n",
       "      <td>NaN</td>\n",
       "      <td>NaN</td>\n",
       "      <td>NaN</td>\n",
       "      <td>NaN</td>\n",
       "      <td>Eker Tombul Ayran 195 Ml - Migros</td>\n",
       "      <td>&amp;lt;p&amp;gt;&amp;lt;strong&amp;gt;Eker Tombul Ayran, &amp;lt;...</td>\n",
       "      <td>https://migros-dali-storage-prod.global.ssl.fa...</td>\n",
       "      <td>https://www.migros.com.tr/eker-tombul-ayran-19...</td>\n",
       "    </tr>\n",
       "    <tr>\n",
       "      <th>4997</th>\n",
       "      <td>Eker</td>\n",
       "      <td>İçecek</td>\n",
       "      <td>Gazsız İçecek</td>\n",
       "      <td>Ayran</td>\n",
       "      <td>NaN</td>\n",
       "      <td>NaN</td>\n",
       "      <td>NaN</td>\n",
       "      <td>NaN</td>\n",
       "      <td>Eker Tombul Ayran 6X195 Ml - Migros</td>\n",
       "      <td>&amp;lt;p&amp;gt;&amp;lt;strong&amp;gt;Eker Tombul Ayran&amp;lt;/s...</td>\n",
       "      <td>https://migros-dali-storage-prod.global.ssl.fa...</td>\n",
       "      <td>https://www.migros.com.tr/eker-tombul-ayran-6x...</td>\n",
       "    </tr>\n",
       "    <tr>\n",
       "      <th>4998</th>\n",
       "      <td>Torku</td>\n",
       "      <td>İçecek</td>\n",
       "      <td>Gazsız İçecek</td>\n",
       "      <td>Ayran</td>\n",
       "      <td>NaN</td>\n",
       "      <td>NaN</td>\n",
       "      <td>NaN</td>\n",
       "      <td>NaN</td>\n",
       "      <td>Torku Şişe Ayran 2 L - Migros</td>\n",
       "      <td>&amp;lt;p&amp;gt;&amp;lt;strong&amp;gt;Torku Şişe Ayran,&amp;lt;/s...</td>\n",
       "      <td>https://migros-dali-storage-prod.global.ssl.fa...</td>\n",
       "      <td>https://www.migros.com.tr/torku-sise-ayran-2-l...</td>\n",
       "    </tr>\n",
       "    <tr>\n",
       "      <th>4999</th>\n",
       "      <td>Vivo</td>\n",
       "      <td>İçecek</td>\n",
       "      <td>Gazsız İçecek</td>\n",
       "      <td>Kefir</td>\n",
       "      <td>NaN</td>\n",
       "      <td>NaN</td>\n",
       "      <td>NaN</td>\n",
       "      <td>NaN</td>\n",
       "      <td>Vivo Kefir Mayası 4x1G - Migros</td>\n",
       "      <td>&amp;lt;p&amp;gt;&amp;lt;strong&amp;gt;Kullanım Önerileri&amp;lt;/...</td>\n",
       "      <td>https://migros-dali-storage-prod.global.ssl.fa...</td>\n",
       "      <td>https://www.migros.com.tr/vivo-kefir-mayasi-4x...</td>\n",
       "    </tr>\n",
       "  </tbody>\n",
       "</table>\n",
       "<p>5000 rows × 12 columns</p>\n",
       "</div>"
      ],
      "text/plain": [
       "         uMarka urunKategorileri urunKategorileriTwo urunKategorileriThree  \\\n",
       "0         M&M's  Gıda, Şekerleme        Atıştırmalık              Çikolata   \n",
       "1         M&M's  Gıda, Şekerleme        Atıştırmalık              Çikolata   \n",
       "2         M&M's  Gıda, Şekerleme        Atıştırmalık              Çikolata   \n",
       "3         M&M's  Gıda, Şekerleme        Atıştırmalık              Çikolata   \n",
       "4     Veg&Bones  Gıda, Şekerleme  Çorba ve Bulyonlar                Bulyon   \n",
       "...         ...              ...                 ...                   ...   \n",
       "4995      Torku           İçecek       Gazsız İçecek                 Ayran   \n",
       "4996       Eker           İçecek       Gazsız İçecek                 Ayran   \n",
       "4997       Eker           İçecek       Gazsız İçecek                 Ayran   \n",
       "4998      Torku           İçecek       Gazsız İçecek                 Ayran   \n",
       "4999       Vivo           İçecek       Gazsız İçecek                 Kefir   \n",
       "\n",
       "     urunKategorileriFour urunKategorileriFive  urunKategorileriSix  \\\n",
       "0          Draje Çikolata                M&M's                  NaN   \n",
       "1          Draje Çikolata                M&M's                  NaN   \n",
       "2          Draje Çikolata                M&M's                  NaN   \n",
       "3          Draje Çikolata                M&M's                  NaN   \n",
       "4                     NaN                  NaN                  NaN   \n",
       "...                   ...                  ...                  ...   \n",
       "4995                  NaN                  NaN                  NaN   \n",
       "4996                  NaN                  NaN                  NaN   \n",
       "4997                  NaN                  NaN                  NaN   \n",
       "4998                  NaN                  NaN                  NaN   \n",
       "4999                  NaN                  NaN                  NaN   \n",
       "\n",
       "      urunKategorileriSeven  \\\n",
       "0                       NaN   \n",
       "1                       NaN   \n",
       "2                       NaN   \n",
       "3                       NaN   \n",
       "4                       NaN   \n",
       "...                     ...   \n",
       "4995                    NaN   \n",
       "4996                    NaN   \n",
       "4997                    NaN   \n",
       "4998                    NaN   \n",
       "4999                    NaN   \n",
       "\n",
       "                                                urunAdi  \\\n",
       "0                 M&M's Çikolatalı Draje 100 G - Migros   \n",
       "1                  M&M's Çikolatalı Draje 45 G - Migros   \n",
       "2                    M&M's Fıstıklı Draje 45 G - Migros   \n",
       "3             M&M's Pirinç Patlaklı Draje 36 G - Migros   \n",
       "4     Veg&Bones Bones Paça + İlikli Kemik Suyu 480 M...   \n",
       "...                                                 ...   \n",
       "4995                        Torku Ayran 300 Ml - Migros   \n",
       "4996                  Eker Tombul Ayran 195 Ml - Migros   \n",
       "4997                Eker Tombul Ayran 6X195 Ml - Migros   \n",
       "4998                      Torku Şişe Ayran 2 L - Migros   \n",
       "4999                    Vivo Kefir Mayası 4x1G - Migros   \n",
       "\n",
       "                                           urunAciklama  \\\n",
       "0     &lt;p&gt;&lt;strong&gt;M&;amp;M';s Çikolatalı ...   \n",
       "1     &lt;p&gt;&lt;strong&gt;M&;amp;M';s Çikolatalı ...   \n",
       "2     &lt;p&gt;&lt;strong&gt;M&;amp;M';s Fıstıklı Dr...   \n",
       "3     &lt;p&gt;&lt;strong&gt;M&;amp;M';s Pirinç Patl...   \n",
       "4     &lt;p&gt;&lt;strong&gt;İşletme Kayıt No&lt;/st...   \n",
       "...                                                 ...   \n",
       "4995  &lt;b&gt;Torku Ayran&lt;/b&gt;, doğal yoğurtta...   \n",
       "4996  &lt;p&gt;&lt;strong&gt;Eker Tombul Ayran, &lt;...   \n",
       "4997  &lt;p&gt;&lt;strong&gt;Eker Tombul Ayran&lt;/s...   \n",
       "4998  &lt;p&gt;&lt;strong&gt;Torku Şişe Ayran,&lt;/s...   \n",
       "4999  &lt;p&gt;&lt;strong&gt;Kullanım Önerileri&lt;/...   \n",
       "\n",
       "                                               urunFoto  \\\n",
       "0     https://migros-dali-storage-prod.global.ssl.fa...   \n",
       "1     https://migros-dali-storage-prod.global.ssl.fa...   \n",
       "2     https://migros-dali-storage-prod.global.ssl.fa...   \n",
       "3     https://migros-dali-storage-prod.global.ssl.fa...   \n",
       "4     https://migros-dali-storage-prod.global.ssl.fa...   \n",
       "...                                                 ...   \n",
       "4995  https://migros-dali-storage-prod.global.ssl.fa...   \n",
       "4996  https://migros-dali-storage-prod.global.ssl.fa...   \n",
       "4997  https://migros-dali-storage-prod.global.ssl.fa...   \n",
       "4998  https://migros-dali-storage-prod.global.ssl.fa...   \n",
       "4999  https://migros-dali-storage-prod.global.ssl.fa...   \n",
       "\n",
       "                                                urunURL  \n",
       "0     https://www.migros.com.tr/mms-cikolatali-draje...  \n",
       "1     https://www.migros.com.tr/mms-cikolatali-draje...  \n",
       "2     https://www.migros.com.tr/mms-fistikli-draje-4...  \n",
       "3     https://www.migros.com.tr/mms-pirinc-patlakli-...  \n",
       "4     https://www.migros.com.tr/vegbones-paca-ilikli...  \n",
       "...                                                 ...  \n",
       "4995  https://www.migros.com.tr/torku-ayran-300-ml-p...  \n",
       "4996  https://www.migros.com.tr/eker-tombul-ayran-19...  \n",
       "4997  https://www.migros.com.tr/eker-tombul-ayran-6x...  \n",
       "4998  https://www.migros.com.tr/torku-sise-ayran-2-l...  \n",
       "4999  https://www.migros.com.tr/vivo-kefir-mayasi-4x...  \n",
       "\n",
       "[5000 rows x 12 columns]"
      ]
     },
     "execution_count": 6,
     "metadata": {},
     "output_type": "execute_result"
    }
   ],
   "source": [
    "migros_products_1"
=======
     "ename": "NameError",
     "evalue": "name 'create_plot' is not defined",
     "output_type": "error",
     "traceback": [
      "\u001b[1;31m---------------------------------------------------------------------------\u001b[0m",
      "\u001b[1;31mNameError\u001b[0m                                 Traceback (most recent call last)",
      "\u001b[1;32m<ipython-input-6-31fd823d4c8d>\u001b[0m in \u001b[0;36m<module>\u001b[1;34m\u001b[0m\n\u001b[1;32m----> 1\u001b[1;33m \u001b[0mcreate_plot\u001b[0m\u001b[1;33m(\u001b[0m\u001b[0msmote\u001b[0m\u001b[1;33m,\u001b[0m\u001b[0madas\u001b[0m\u001b[1;33m,\u001b[0m\u001b[1;34m'SMOTE'\u001b[0m\u001b[1;33m,\u001b[0m\u001b[1;34m'ADASYN'\u001b[0m\u001b[1;33m)\u001b[0m\u001b[1;33m\u001b[0m\u001b[1;33m\u001b[0m\u001b[0m\n\u001b[0m",
      "\u001b[1;31mNameError\u001b[0m: name 'create_plot' is not defined"
     ]
    }
   ],
   "source": [
    "create_plot(smote,adas,'SMOTE','ADASYN')"
   ]
  },
  {
   "cell_type": "code",
   "execution_count": 7,
   "metadata": {},
   "outputs": [
    {
     "ename": "NameError",
     "evalue": "name 'pd' is not defined",
     "output_type": "error",
     "traceback": [
      "\u001b[1;31m---------------------------------------------------------------------------\u001b[0m",
      "\u001b[1;31mNameError\u001b[0m                                 Traceback (most recent call last)",
      "\u001b[1;32m<ipython-input-7-d7ee06029474>\u001b[0m in \u001b[0;36m<module>\u001b[1;34m\u001b[0m\n\u001b[1;32m----> 1\u001b[1;33m \u001b[0mdf\u001b[0m\u001b[1;33m=\u001b[0m\u001b[0mpd\u001b[0m\u001b[1;33m.\u001b[0m\u001b[0mconcat\u001b[0m\u001b[1;33m(\u001b[0m\u001b[1;33m[\u001b[0m\u001b[0mX_smote\u001b[0m\u001b[1;33m,\u001b[0m \u001b[0my_smote\u001b[0m\u001b[1;33m]\u001b[0m\u001b[1;33m,\u001b[0m \u001b[0maxis\u001b[0m\u001b[1;33m=\u001b[0m\u001b[1;36m1\u001b[0m\u001b[1;33m)\u001b[0m\u001b[1;33m\u001b[0m\u001b[1;33m\u001b[0m\u001b[0m\n\u001b[0m",
      "\u001b[1;31mNameError\u001b[0m: name 'pd' is not defined"
     ]
    }
   ],
   "source": [
    "df=pd.concat([X_smote, y_smote], axis=1)\n"
>>>>>>> c8027e9c3ca658761f929255ea37bca691110696
   ]
  },
  {
   "cell_type": "code",
<<<<<<< HEAD
   "execution_count": 4,
   "metadata": {},
   "outputs": [
    {
     "data": {
      "text/plain": [
       "'/Users/ademoguzhanozdemir/Desktop/Git_Projects/nlp'"
      ]
     },
     "execution_count": 4,
     "metadata": {},
     "output_type": "execute_result"
    }
   ],
   "source": [
    "pwd"
=======
   "execution_count": 8,
   "metadata": {},
   "outputs": [
    {
     "ename": "NameError",
     "evalue": "name 'df' is not defined",
     "output_type": "error",
     "traceback": [
      "\u001b[1;31m---------------------------------------------------------------------------\u001b[0m",
      "\u001b[1;31mNameError\u001b[0m                                 Traceback (most recent call last)",
      "\u001b[1;32m<ipython-input-8-d23bf70b03ed>\u001b[0m in \u001b[0;36m<module>\u001b[1;34m\u001b[0m\n\u001b[1;32m----> 1\u001b[1;33m \u001b[0my\u001b[0m \u001b[1;33m=\u001b[0m \u001b[0mdf\u001b[0m\u001b[1;33m[\u001b[0m\u001b[1;34m'No-show'\u001b[0m\u001b[1;33m]\u001b[0m\u001b[1;33m\u001b[0m\u001b[1;33m\u001b[0m\u001b[0m\n\u001b[0m\u001b[0;32m      2\u001b[0m \u001b[0mX\u001b[0m \u001b[1;33m=\u001b[0m \u001b[0mdf\u001b[0m\u001b[1;33m.\u001b[0m\u001b[0mdrop\u001b[0m\u001b[1;33m(\u001b[0m\u001b[1;33m[\u001b[0m\u001b[1;34m'No-show'\u001b[0m\u001b[1;33m]\u001b[0m\u001b[1;33m,\u001b[0m\u001b[0maxis\u001b[0m\u001b[1;33m=\u001b[0m\u001b[1;36m1\u001b[0m\u001b[1;33m)\u001b[0m\u001b[1;33m\u001b[0m\u001b[1;33m\u001b[0m\u001b[0m\n\u001b[0;32m      3\u001b[0m \u001b[0mX_train\u001b[0m\u001b[1;33m,\u001b[0m \u001b[0mX_test\u001b[0m\u001b[1;33m,\u001b[0m \u001b[0my_train\u001b[0m\u001b[1;33m,\u001b[0m \u001b[0my_test\u001b[0m \u001b[1;33m=\u001b[0m  \u001b[0mtrain_test_split\u001b[0m\u001b[1;33m(\u001b[0m\u001b[0mX\u001b[0m\u001b[1;33m,\u001b[0m \u001b[0my\u001b[0m\u001b[1;33m,\u001b[0m \u001b[0mtest_size\u001b[0m\u001b[1;33m=\u001b[0m\u001b[1;36m0.20\u001b[0m\u001b[1;33m,\u001b[0m \u001b[0mrandom_state\u001b[0m\u001b[1;33m=\u001b[0m\u001b[1;36m111\u001b[0m\u001b[1;33m,\u001b[0m\u001b[0mstratify\u001b[0m\u001b[1;33m=\u001b[0m\u001b[0my\u001b[0m\u001b[1;33m)\u001b[0m\u001b[1;33m\u001b[0m\u001b[1;33m\u001b[0m\u001b[0m\n",
      "\u001b[1;31mNameError\u001b[0m: name 'df' is not defined"
     ]
    }
   ],
   "source": [
    "y = df['No-show']\n",
    "X = df.drop(['No-show'],axis=1)\n",
    "X_train, X_test, y_train, y_test =  train_test_split(X, y, test_size=0.20, random_state=111,stratify=y)"
   ]
  },
  {
   "cell_type": "code",
   "execution_count": 9,
   "metadata": {},
   "outputs": [
    {
     "ename": "NameError",
     "evalue": "name 'olddf' is not defined",
     "output_type": "error",
     "traceback": [
      "\u001b[1;31m---------------------------------------------------------------------------\u001b[0m",
      "\u001b[1;31mNameError\u001b[0m                                 Traceback (most recent call last)",
      "\u001b[1;32m<ipython-input-9-8c29c9671c32>\u001b[0m in \u001b[0;36m<module>\u001b[1;34m\u001b[0m\n\u001b[1;32m----> 1\u001b[1;33m \u001b[0monstrue\u001b[0m\u001b[1;33m=\u001b[0m\u001b[0molddf\u001b[0m\u001b[1;33m[\u001b[0m\u001b[0molddf\u001b[0m\u001b[1;33m[\u001b[0m\u001b[1;34m\"No-show\"\u001b[0m\u001b[1;33m]\u001b[0m\u001b[1;33m==\u001b[0m\u001b[1;32mTrue\u001b[0m\u001b[1;33m]\u001b[0m\u001b[1;33m[\u001b[0m\u001b[1;34m\"No-show\"\u001b[0m\u001b[1;33m]\u001b[0m\u001b[1;33m.\u001b[0m\u001b[0mcount\u001b[0m\u001b[1;33m(\u001b[0m\u001b[1;33m)\u001b[0m\u001b[1;33m\u001b[0m\u001b[1;33m\u001b[0m\u001b[0m\n\u001b[0m\u001b[0;32m      2\u001b[0m \u001b[0monstruepercent\u001b[0m\u001b[1;33m=\u001b[0m\u001b[0mnstrue\u001b[0m\u001b[1;33m/\u001b[0m\u001b[0molddf\u001b[0m\u001b[1;33m[\u001b[0m\u001b[1;34m\"No-show\"\u001b[0m\u001b[1;33m]\u001b[0m\u001b[1;33m.\u001b[0m\u001b[0mcount\u001b[0m\u001b[1;33m(\u001b[0m\u001b[1;33m)\u001b[0m\u001b[1;33m*\u001b[0m\u001b[1;36m100\u001b[0m\u001b[1;33m\u001b[0m\u001b[1;33m\u001b[0m\u001b[0m\n\u001b[0;32m      3\u001b[0m \u001b[0monsfalsepercent\u001b[0m\u001b[1;33m=\u001b[0m\u001b[1;36m100\u001b[0m\u001b[1;33m-\u001b[0m\u001b[0mnstruepercent\u001b[0m\u001b[1;33m\u001b[0m\u001b[1;33m\u001b[0m\u001b[0m\n\u001b[0;32m      4\u001b[0m \u001b[1;33m\u001b[0m\u001b[0m\n\u001b[0;32m      5\u001b[0m \u001b[0mnstrue\u001b[0m\u001b[1;33m=\u001b[0m\u001b[0mdf\u001b[0m\u001b[1;33m[\u001b[0m\u001b[0mdf\u001b[0m\u001b[1;33m[\u001b[0m\u001b[1;34m\"No-show\"\u001b[0m\u001b[1;33m]\u001b[0m\u001b[1;33m==\u001b[0m\u001b[1;32mTrue\u001b[0m\u001b[1;33m]\u001b[0m\u001b[1;33m[\u001b[0m\u001b[1;34m\"No-show\"\u001b[0m\u001b[1;33m]\u001b[0m\u001b[1;33m.\u001b[0m\u001b[0mcount\u001b[0m\u001b[1;33m(\u001b[0m\u001b[1;33m)\u001b[0m\u001b[1;33m\u001b[0m\u001b[1;33m\u001b[0m\u001b[0m\n",
      "\u001b[1;31mNameError\u001b[0m: name 'olddf' is not defined"
     ]
    }
   ],
   "source": [
    "\n",
    "onstrue=olddf[olddf[\"No-show\"]==True][\"No-show\"].count()\n",
    "onstruepercent=nstrue/olddf[\"No-show\"].count()*100\n",
    "onsfalsepercent=100-nstruepercent\n",
    "\n",
    "nstrue=df[df[\"No-show\"]==True][\"No-show\"].count()\n",
    "nstruepercent=nstrue/df[\"No-show\"].count()*100\n",
    "nsfalsepercent=100-nstruepercent\n",
    "\n",
    "\n",
    "labels = 'True', 'False'\n",
    "sizes = [onstruepercent, onsfalsepercent]\n",
    "explode = (0.1, 0)  \n",
    "\n",
    "\n",
    "fig1, ax1 = plt.subplots(nrows=1,ncols=2, figsize=(10,10))\n",
    "ax1[0].pie(sizes, explode=explode, labels=labels,colors=colors, autopct='%1.1f%%',\n",
    "        shadow=True, startangle=90)\n",
    "ax1[0].set_xlabel('Old No-Score Rate',fontdict = axis_style)\n",
    "\n",
    "\n",
    "sizes = [nstruepercent, nsfalsepercent]\n",
    "\n",
    "ax1[1].pie(sizes, explode=explode, labels=labels,colors=colors, autopct='%1.1f%%',\n",
    "        shadow=True, startangle=90) \n",
    "ax1[1].set_xlabel('New No-Score Rate',fontdict = axis_style)\n",
    "\n",
    "\n",
    "plt.show()"
   ]
  },
  {
   "cell_type": "markdown",
   "metadata": {},
   "source": [
    "#### Smote analizi ile verilerimizi doldurduk.\n"
>>>>>>> c8027e9c3ca658761f929255ea37bca691110696
   ]
  },
  {
   "cell_type": "code",
   "execution_count": null,
   "metadata": {},
   "outputs": [],
   "source": []
  }
 ],
 "metadata": {
  "kernelspec": {
   "display_name": "Python 3",
   "language": "python",
   "name": "python3"
  },
  "language_info": {
   "codemirror_mode": {
    "name": "ipython",
    "version": 3
   },
   "file_extension": ".py",
   "mimetype": "text/x-python",
   "name": "python",
   "nbconvert_exporter": "python",
   "pygments_lexer": "ipython3",
   "version": "3.8.3"
  }
 },
 "nbformat": 4,
 "nbformat_minor": 4
}
