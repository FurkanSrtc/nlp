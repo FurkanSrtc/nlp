{
 "cells": [
  {
   "cell_type": "code",
   "execution_count": 2,
   "metadata": {},
   "outputs": [],
   "source": [
    "import pandas as pd"
   ]
  },
  {
   "cell_type": "code",
   "execution_count": 3,
   "metadata": {},
   "outputs": [],
   "source": [
    "raw_prodcuts1 = pd.read_csv(\"data/Migros/products1Yeni.csv\", encoding=\"utf-8\", sep =\";\")\n",
    "raw_prodcuts2 = pd.read_csv(\"data/Migros/products2Yeni.csv\", encoding=\"utf-8\", sep =\";\")\n",
    "raw_prodcuts3 = pd.read_csv(\"data/Migros/products3Yeni.csv\", encoding=\"utf-8\", sep =\";\")\n",
    "raw_prodcuts4 = pd.read_csv(\"data/Migros/products4Yeni.csv\", encoding=\"utf-8\", sep =\";\")\n",
    "\n",
    "raw_prodcuts5 = pd.read_csv(\"data/CagriMarket/BebekUrunleri.csv\", encoding=\"utf-8\")\n",
    "raw_prodcuts6 = pd.read_csv(\"data/CagriMarket/DeterjanVeTemizlik.csv\", encoding=\"utf-8\")\n",
    "raw_prodcuts7 = pd.read_csv(\"data/CagriMarket/EtTavukHindi.csv\", encoding=\"utf-8\")\n",
    "raw_prodcuts8 = pd.read_csv(\"data/CagriMarket/EvVeYasamUrunleri.csv\", encoding=\"utf-8\")\n",
    "raw_prodcuts9 = pd.read_csv(\"data/CagriMarket/GidaSekerleme.csv\", encoding=\"utf-8\")\n",
    "raw_prodcuts10 = pd.read_csv(\"data/CagriMarket/KagitUrunleri.csv\", encoding=\"utf-8\")\n",
    "raw_prodcuts11 = pd.read_csv(\"data/CagriMarket/KisiselBakimVeKozmetik.csv\", encoding=\"utf-8\")\n",
    "raw_prodcuts12 = pd.read_csv(\"data/CagriMarket/MeyveSebze.csv\", encoding=\"utf-8\")\n",
    "raw_prodcuts13 = pd.read_csv(\"data/CagriMarket/PetShopUrunleri.csv\", encoding=\"utf-8\")\n",
    "raw_prodcuts14 = pd.read_csv(\"data/CagriMarket/SutveKahvalti.csv\", encoding=\"utf-8\")\n",
    "raw_prodcuts15 = pd.read_csv(\"data/CagriMarket/icecekler.csv\", encoding=\"utf-8\")\n"
   ]
  },
  {
   "cell_type": "code",
   "execution_count": null,
   "metadata": {},
   "outputs": [],
   "source": []
  },
  {
   "cell_type": "code",
   "execution_count": null,
   "metadata": {},
   "outputs": [],
   "source": []
  }
 ],
 "metadata": {
  "kernelspec": {
   "display_name": "Python 3",
   "language": "python",
   "name": "python3"
  },
  "language_info": {
   "codemirror_mode": {
    "name": "ipython",
    "version": 3
   },
   "file_extension": ".py",
   "mimetype": "text/x-python",
   "name": "python",
   "nbconvert_exporter": "python",
   "pygments_lexer": "ipython3",
   "version": "3.8.3"
  }
 },
 "nbformat": 4,
 "nbformat_minor": 4
}
